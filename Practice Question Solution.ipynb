{
 "cells": [
  {
   "cell_type": "markdown",
   "id": "5a37094d",
   "metadata": {},
   "source": [
    "### Write a Python program to count the occurrences of each element in a list."
   ]
  },
  {
   "cell_type": "code",
   "execution_count": 81,
   "id": "67f3b55f",
   "metadata": {},
   "outputs": [],
   "source": [
    "# Creation of function\n",
    "\n",
    "def count_occurrences(lista):\n",
    "    count={}\n",
    "    for item in lista:\n",
    "        count[item]=lista.count(item)\n",
    "    return count\n"
   ]
  },
  {
   "cell_type": "code",
   "execution_count": 82,
   "id": "fbffc4eb",
   "metadata": {},
   "outputs": [
    {
     "data": {
      "text/plain": [
       "{11: 4, 22: 4, 33: 3, 44: 3, 55: 1}"
      ]
     },
     "execution_count": 82,
     "metadata": {},
     "output_type": "execute_result"
    }
   ],
   "source": [
    "#Call Function \n",
    "list1=[11,22,33,44,55,44,33,44,33,22,22,22,11,11,11]\n",
    "\n",
    "count_occurrences(list1)"
   ]
  },
  {
   "cell_type": "markdown",
   "id": "42deaf93",
   "metadata": {},
   "source": [
    "### WAF to Check for Palindrome"
   ]
  },
  {
   "cell_type": "code",
   "execution_count": 3,
   "id": "c8dd2ec0",
   "metadata": {},
   "outputs": [],
   "source": [
    "# Declartion of function\n",
    "\n",
    "def palindrome(a):\n",
    "    if (a==a[: :-1]):\n",
    "        print(\"Yes, it is a Palindrome\")\n",
    "    else:\n",
    "        print(\"No, it is not a Palindrome\")"
   ]
  },
  {
   "cell_type": "code",
   "execution_count": 4,
   "id": "f8941f1f",
   "metadata": {},
   "outputs": [
    {
     "name": "stdout",
     "output_type": "stream",
     "text": [
      "Yes, it is a Palindrome\n"
     ]
    }
   ],
   "source": [
    "# Call Function \n",
    "\n",
    "stri=\"radar\"\n",
    "\n",
    "palindrome(stri)"
   ]
  },
  {
   "cell_type": "markdown",
   "id": "100b89c4",
   "metadata": {},
   "source": [
    "### WAF to Remove Duplicates from a List"
   ]
  },
  {
   "cell_type": "code",
   "execution_count": 5,
   "id": "c6d1d71b",
   "metadata": {},
   "outputs": [],
   "source": [
    "# Declartion of function\n",
    "\n",
    "def dupli_remove(a):\n",
    "    return set(a)"
   ]
  },
  {
   "cell_type": "code",
   "execution_count": 6,
   "id": "6d805f33",
   "metadata": {},
   "outputs": [
    {
     "data": {
      "text/plain": [
       "{11, 22, 33, 44, 55}"
      ]
     },
     "execution_count": 6,
     "metadata": {},
     "output_type": "execute_result"
    }
   ],
   "source": [
    "# Call Function\n",
    "\n",
    "list1=[11,22,44,33,44,55,44,33,44,33,22,22,22,11,11,11]\n",
    "\n",
    "dupli_remove(list1)\n"
   ]
  },
  {
   "cell_type": "markdown",
   "id": "2d7b2d4a",
   "metadata": {},
   "source": [
    "### Write a function to find the maximum number in a list."
   ]
  },
  {
   "cell_type": "code",
   "execution_count": 7,
   "id": "f089b85f",
   "metadata": {},
   "outputs": [],
   "source": [
    "# Declartion of function\n",
    "def maximum(a):\n",
    "    return max(a)"
   ]
  },
  {
   "cell_type": "code",
   "execution_count": 8,
   "id": "2be65516",
   "metadata": {},
   "outputs": [
    {
     "data": {
      "text/plain": [
       "55"
      ]
     },
     "execution_count": 8,
     "metadata": {},
     "output_type": "execute_result"
    }
   ],
   "source": [
    "# Call Function\n",
    "\n",
    "list1=[11,22,33,44,55,44,33,44,33,22,22,22,11,11,11]\n",
    "\n",
    "maximum(list1)"
   ]
  },
  {
   "cell_type": "markdown",
   "id": "c1bb9508",
   "metadata": {},
   "source": [
    "### Write a function to reverse a string."
   ]
  },
  {
   "cell_type": "code",
   "execution_count": 9,
   "id": "9fed91b5",
   "metadata": {},
   "outputs": [],
   "source": [
    "# Declartion of function\n",
    "def reverse(a):\n",
    "    print(a[ : :-1])"
   ]
  },
  {
   "cell_type": "code",
   "execution_count": 10,
   "id": "b562373d",
   "metadata": {},
   "outputs": [
    {
     "name": "stdout",
     "output_type": "stream",
     "text": [
      "olleH\n"
     ]
    }
   ],
   "source": [
    "# Call Function\n",
    "\n",
    "stri='Hello'\n",
    "\n",
    "reverse(stri)"
   ]
  },
  {
   "cell_type": "markdown",
   "id": "4d3cfe80",
   "metadata": {},
   "source": [
    "### Write a Python program to print all prime numbers between 1 and 100."
   ]
  },
  {
   "cell_type": "code",
   "execution_count": 11,
   "id": "0adc435b",
   "metadata": {},
   "outputs": [],
   "source": [
    "# Declartion of function\n",
    "\n",
    "def prime_till(n):\n",
    "    li=[]\n",
    "    for i in range(2,n+1):\n",
    "        count=0\n",
    "        for a in range(1,i+1):\n",
    "            if(i%a==0):\n",
    "                count=count+1\n",
    "        if(count==2):\n",
    "            li.append(i)\n",
    "    return li"
   ]
  },
  {
   "cell_type": "code",
   "execution_count": 12,
   "id": "9b9b936b",
   "metadata": {},
   "outputs": [
    {
     "data": {
      "text/plain": [
       "[2, 3, 5, 7, 11, 13, 17, 19, 23, 29, 31, 37, 41, 43, 47]"
      ]
     },
     "execution_count": 12,
     "metadata": {},
     "output_type": "execute_result"
    }
   ],
   "source": [
    "# calling Function\n",
    "prime_till(50)"
   ]
  },
  {
   "cell_type": "markdown",
   "id": "5b9e61ea",
   "metadata": {},
   "source": [
    "### Given a list of numbers, write a function to return the second largest number"
   ]
  },
  {
   "cell_type": "code",
   "execution_count": 74,
   "id": "c825ff80",
   "metadata": {},
   "outputs": [],
   "source": [
    "# Declartion of the function\n",
    "def second_largest(l):\n",
    "    l.sort()\n",
    "    return l[-2]"
   ]
  },
  {
   "cell_type": "code",
   "execution_count": 75,
   "id": "e347b527",
   "metadata": {},
   "outputs": [
    {
     "data": {
      "text/plain": [
       "44"
      ]
     },
     "execution_count": 75,
     "metadata": {},
     "output_type": "execute_result"
    }
   ],
   "source": [
    "# Calling function\n",
    "list1=[11,22,33,44,55,44,33,44,33,22,22,22,11,11,11]\n",
    "second_largest(list1)"
   ]
  },
  {
   "cell_type": "markdown",
   "id": "36d95da9",
   "metadata": {},
   "source": [
    "### How would you reverse a string."
   ]
  },
  {
   "cell_type": "code",
   "execution_count": 15,
   "id": "0be0c890",
   "metadata": {},
   "outputs": [],
   "source": [
    "# Declartion of the function\n",
    "def reverse(a):\n",
    "    reve=a[: :-1]\n",
    "    return reve"
   ]
  },
  {
   "cell_type": "code",
   "execution_count": 16,
   "id": "ec498a8d",
   "metadata": {},
   "outputs": [
    {
     "data": {
      "text/plain": [
       "'olleH'"
      ]
     },
     "execution_count": 16,
     "metadata": {},
     "output_type": "execute_result"
    }
   ],
   "source": [
    "# Calling function\n",
    "stri=\"Hello\"\n",
    "reverse(stri)"
   ]
  },
  {
   "cell_type": "markdown",
   "id": "7832f6f2",
   "metadata": {},
   "source": [
    "Write a Python program to read a file and count the number of lines and words in it."
   ]
  },
  {
   "cell_type": "markdown",
   "id": "08a0a2d1",
   "metadata": {},
   "source": [
    "### Create a function to calculate the factorial of a number using recursion."
   ]
  },
  {
   "cell_type": "code",
   "execution_count": 17,
   "id": "f44717b6",
   "metadata": {},
   "outputs": [],
   "source": [
    "# Declartion of function \n",
    "\n",
    "def factorial(n):\n",
    "    if n==1 or n==0:\n",
    "        return 1\n",
    "    else:\n",
    "        return n*factorial(n-1)"
   ]
  },
  {
   "cell_type": "code",
   "execution_count": 18,
   "id": "ad702568",
   "metadata": {},
   "outputs": [
    {
     "data": {
      "text/plain": [
       "120"
      ]
     },
     "execution_count": 18,
     "metadata": {},
     "output_type": "execute_result"
    }
   ],
   "source": [
    "# Calling function\n",
    "factorial(5)"
   ]
  },
  {
   "cell_type": "markdown",
   "id": "343c0951",
   "metadata": {},
   "source": [
    "### Write a Python program to create a 3x3 NumPy array of all ones and replace the diagonal elements with zeros."
   ]
  },
  {
   "cell_type": "code",
   "execution_count": 19,
   "id": "7813c594",
   "metadata": {},
   "outputs": [],
   "source": [
    "import numpy as np"
   ]
  },
  {
   "cell_type": "code",
   "execution_count": 20,
   "id": "21f35707",
   "metadata": {},
   "outputs": [
    {
     "name": "stdout",
     "output_type": "stream",
     "text": [
      "[[1 1 1]\n",
      " [1 1 1]\n",
      " [1 1 1]]\n",
      "\n",
      "[[0 1 1]\n",
      " [1 0 1]\n",
      " [1 1 0]]\n"
     ]
    }
   ],
   "source": [
    "ones=np.ones((3,3),dtype=int)\n",
    "print(ones)\n",
    "print(\"\")\n",
    "for i in range(len(ones)):\n",
    "    ones[i,i]=0\n",
    "print(ones)"
   ]
  },
  {
   "cell_type": "markdown",
   "id": "40cc1611",
   "metadata": {},
   "source": [
    "### Create a NumPy array of random numbers between 0 and 1 and filter out all values greater than 0.5."
   ]
  },
  {
   "cell_type": "code",
   "execution_count": 21,
   "id": "70a0bc59",
   "metadata": {},
   "outputs": [
    {
     "data": {
      "text/plain": [
       "array([[0.77676467, 0.56082299, 0.52235655, 0.77006279, 0.03220439],\n",
       "       [0.30197438, 0.6935087 , 0.78723494, 0.57750682, 0.38017526],\n",
       "       [0.72952152, 0.47363586, 0.73028905, 0.16064053, 0.86365196],\n",
       "       [0.25793456, 0.55369831, 0.15185362, 0.13640224, 0.61930228],\n",
       "       [0.87066682, 0.15316145, 0.87692134, 0.5183703 , 0.50809509]])"
      ]
     },
     "execution_count": 21,
     "metadata": {},
     "output_type": "execute_result"
    }
   ],
   "source": [
    "a=np.random.random((5,5))\n",
    "a"
   ]
  },
  {
   "cell_type": "code",
   "execution_count": 22,
   "id": "cb9d752d",
   "metadata": {},
   "outputs": [
    {
     "name": "stdout",
     "output_type": "stream",
     "text": [
      "[0.77676467 0.56082299 0.52235655 0.77006279 0.6935087  0.78723494\n",
      " 0.57750682 0.72952152 0.73028905 0.86365196 0.55369831 0.61930228\n",
      " 0.87066682 0.87692134 0.5183703  0.50809509]\n"
     ]
    }
   ],
   "source": [
    "print(a[a>0.5])"
   ]
  },
  {
   "cell_type": "markdown",
   "id": "f89eea28",
   "metadata": {},
   "source": [
    "### Given a NumPy array [1, 2, 3, 4, 5], calculate the mean and standard deviation."
   ]
  },
  {
   "cell_type": "code",
   "execution_count": 23,
   "id": "2a584099",
   "metadata": {},
   "outputs": [
    {
     "data": {
      "text/plain": [
       "array([1, 2, 3, 4, 5])"
      ]
     },
     "execution_count": 23,
     "metadata": {},
     "output_type": "execute_result"
    }
   ],
   "source": [
    "z=np.array([1, 2, 3, 4, 5])\n",
    "z"
   ]
  },
  {
   "cell_type": "code",
   "execution_count": 24,
   "id": "8f20496f",
   "metadata": {},
   "outputs": [
    {
     "name": "stdout",
     "output_type": "stream",
     "text": [
      "3.0\n",
      "1.4142135623730951\n"
     ]
    }
   ],
   "source": [
    "print(np.mean(z))\n",
    "print(np.std(z))"
   ]
  },
  {
   "cell_type": "markdown",
   "id": "1d61a70a",
   "metadata": {},
   "source": [
    "### Write a Python program to perform element-wise addition, subtraction, multiplication, and division on two given arrays."
   ]
  },
  {
   "cell_type": "code",
   "execution_count": 25,
   "id": "8ce9d6b5",
   "metadata": {},
   "outputs": [],
   "source": [
    "a=np.array([1, 2, 3, 4, 5])\n",
    "b=np.array([6, 7, 8, 9, 10])"
   ]
  },
  {
   "cell_type": "code",
   "execution_count": 26,
   "id": "cdcee7ea",
   "metadata": {},
   "outputs": [
    {
     "name": "stdout",
     "output_type": "stream",
     "text": [
      "[ 7  9 11 13 15]\n",
      "[5 5 5 5 5]\n",
      "[ 6 14 24 36 50]\n",
      "[6.         3.5        2.66666667 2.25       2.        ]\n"
     ]
    }
   ],
   "source": [
    "print(a+b)\n",
    "print(b-a)\n",
    "print(a*b)\n",
    "print(b/a)"
   ]
  },
  {
   "cell_type": "markdown",
   "id": "d6d89c07",
   "metadata": {},
   "source": [
    "### Write a Python program to extract all even numbers from a NumPy array."
   ]
  },
  {
   "cell_type": "code",
   "execution_count": 27,
   "id": "297d2f25",
   "metadata": {},
   "outputs": [],
   "source": [
    "b=np.array([6, 7, 8, 9, 10])"
   ]
  },
  {
   "cell_type": "code",
   "execution_count": 28,
   "id": "e02a12db",
   "metadata": {},
   "outputs": [
    {
     "name": "stdout",
     "output_type": "stream",
     "text": [
      "[ 6  8 10]\n"
     ]
    }
   ],
   "source": [
    "print(b[b%2==0])"
   ]
  },
  {
   "cell_type": "markdown",
   "id": "1fb4f548",
   "metadata": {},
   "source": [
    "### How would you reshape a 1D NumPy array of size 9 into a 3x3 matrix?"
   ]
  },
  {
   "cell_type": "code",
   "execution_count": 29,
   "id": "5d6fa108",
   "metadata": {},
   "outputs": [
    {
     "data": {
      "text/plain": [
       "array([ 6,  7,  8,  9, 10, 11, 12, 13, 14])"
      ]
     },
     "execution_count": 29,
     "metadata": {},
     "output_type": "execute_result"
    }
   ],
   "source": [
    "b=np.array([6, 7, 8, 9, 10,11,12,13,14])\n",
    "b"
   ]
  },
  {
   "cell_type": "code",
   "execution_count": 30,
   "id": "616ebe67",
   "metadata": {},
   "outputs": [
    {
     "data": {
      "text/plain": [
       "array([[ 6,  7,  8],\n",
       "       [ 9, 10, 11],\n",
       "       [12, 13, 14]])"
      ]
     },
     "execution_count": 30,
     "metadata": {},
     "output_type": "execute_result"
    }
   ],
   "source": [
    "b=b.reshape((3,3))\n",
    "b"
   ]
  },
  {
   "cell_type": "markdown",
   "id": "85d64edd",
   "metadata": {},
   "source": [
    "### Write a Python program to find the minimum and maximum values in a 2D NumPy array along a specific axis."
   ]
  },
  {
   "cell_type": "code",
   "execution_count": 31,
   "id": "2656ab12",
   "metadata": {},
   "outputs": [
    {
     "data": {
      "text/plain": [
       "array([[ 6,  7,  8],\n",
       "       [ 9, 10, 11],\n",
       "       [12, 13, 14]])"
      ]
     },
     "execution_count": 31,
     "metadata": {},
     "output_type": "execute_result"
    }
   ],
   "source": [
    "b"
   ]
  },
  {
   "cell_type": "code",
   "execution_count": 32,
   "id": "2191e36d",
   "metadata": {},
   "outputs": [
    {
     "name": "stdout",
     "output_type": "stream",
     "text": [
      "[12 13 14]\n",
      "[6 7 8]\n"
     ]
    }
   ],
   "source": [
    "print(b.max(axis=0))\n",
    "print(b.min(axis=0))"
   ]
  },
  {
   "cell_type": "markdown",
   "id": "22bf2918",
   "metadata": {},
   "source": [
    "### How would you calculate the cumulative sum of a NumPy array?"
   ]
  },
  {
   "cell_type": "code",
   "execution_count": 33,
   "id": "87d502bf",
   "metadata": {},
   "outputs": [
    {
     "data": {
      "text/plain": [
       "array([ 6,  7,  8,  9, 10, 11, 12, 13, 14])"
      ]
     },
     "execution_count": 33,
     "metadata": {},
     "output_type": "execute_result"
    }
   ],
   "source": [
    "c=np.array([6, 7, 8, 9, 10,11,12,13,14])\n",
    "c"
   ]
  },
  {
   "cell_type": "code",
   "execution_count": 34,
   "id": "712a8c08",
   "metadata": {},
   "outputs": [
    {
     "data": {
      "text/plain": [
       "90"
      ]
     },
     "execution_count": 34,
     "metadata": {},
     "output_type": "execute_result"
    }
   ],
   "source": [
    "c.sum()"
   ]
  },
  {
   "cell_type": "markdown",
   "id": "4eb0edab",
   "metadata": {},
   "source": [
    "### Create a pandas DataFrame from a dictionary and add a new column based on existing data."
   ]
  },
  {
   "cell_type": "code",
   "execution_count": 35,
   "id": "cd619b45",
   "metadata": {},
   "outputs": [
    {
     "data": {
      "text/plain": [
       "{'Name': ['Simran', 'Prateek', 'Suman', 'Nonu'],\n",
       " 'Age': [26, 31, 22, 29],\n",
       " 'Location': ['Ggn', 'Ggn', 'Delhi', 'Chamoli'],\n",
       " 'Profession': ['Data Analyst', 'Business-man', 'Cook', 'Vet Doctor']}"
      ]
     },
     "execution_count": 35,
     "metadata": {},
     "output_type": "execute_result"
    }
   ],
   "source": [
    "# creation of dictionary\n",
    "dic={\"Name\":[\"Simran\",\"Prateek\",\"Suman\",\"Nonu\"],\n",
    "     \"Age\":[26,31,22,29],\n",
    "     \"Location\":[\"Ggn\",\"Ggn\",\"Delhi\",\"Chamoli\"],\n",
    "    \"Profession\":[\"Data Analyst\",\"Business-man\",\"Cook\",\"Vet Doctor\"]}\n",
    "dic"
   ]
  },
  {
   "cell_type": "code",
   "execution_count": 36,
   "id": "9c127cb1",
   "metadata": {},
   "outputs": [
    {
     "name": "stderr",
     "output_type": "stream",
     "text": [
      "C:\\Users\\Admin\\anaconda3\\Lib\\site-packages\\pandas\\core\\arrays\\masked.py:60: UserWarning: Pandas requires version '1.3.6' or newer of 'bottleneck' (version '1.3.5' currently installed).\n",
      "  from pandas.core import (\n"
     ]
    }
   ],
   "source": [
    "import pandas as pd"
   ]
  },
  {
   "cell_type": "code",
   "execution_count": 37,
   "id": "b0e5f055",
   "metadata": {},
   "outputs": [
    {
     "data": {
      "text/html": [
       "<div>\n",
       "<style scoped>\n",
       "    .dataframe tbody tr th:only-of-type {\n",
       "        vertical-align: middle;\n",
       "    }\n",
       "\n",
       "    .dataframe tbody tr th {\n",
       "        vertical-align: top;\n",
       "    }\n",
       "\n",
       "    .dataframe thead th {\n",
       "        text-align: right;\n",
       "    }\n",
       "</style>\n",
       "<table border=\"1\" class=\"dataframe\">\n",
       "  <thead>\n",
       "    <tr style=\"text-align: right;\">\n",
       "      <th></th>\n",
       "      <th>Name</th>\n",
       "      <th>Age</th>\n",
       "      <th>Location</th>\n",
       "      <th>Profession</th>\n",
       "    </tr>\n",
       "  </thead>\n",
       "  <tbody>\n",
       "    <tr>\n",
       "      <th>0</th>\n",
       "      <td>Simran</td>\n",
       "      <td>26</td>\n",
       "      <td>Ggn</td>\n",
       "      <td>Data Analyst</td>\n",
       "    </tr>\n",
       "    <tr>\n",
       "      <th>1</th>\n",
       "      <td>Prateek</td>\n",
       "      <td>31</td>\n",
       "      <td>Ggn</td>\n",
       "      <td>Business-man</td>\n",
       "    </tr>\n",
       "    <tr>\n",
       "      <th>2</th>\n",
       "      <td>Suman</td>\n",
       "      <td>22</td>\n",
       "      <td>Delhi</td>\n",
       "      <td>Cook</td>\n",
       "    </tr>\n",
       "    <tr>\n",
       "      <th>3</th>\n",
       "      <td>Nonu</td>\n",
       "      <td>29</td>\n",
       "      <td>Chamoli</td>\n",
       "      <td>Vet Doctor</td>\n",
       "    </tr>\n",
       "  </tbody>\n",
       "</table>\n",
       "</div>"
      ],
      "text/plain": [
       "      Name  Age Location    Profession\n",
       "0   Simran   26      Ggn  Data Analyst\n",
       "1  Prateek   31      Ggn  Business-man\n",
       "2    Suman   22    Delhi          Cook\n",
       "3     Nonu   29  Chamoli    Vet Doctor"
      ]
     },
     "execution_count": 37,
     "metadata": {},
     "output_type": "execute_result"
    }
   ],
   "source": [
    "# Convert into DataFrame\n",
    "data=pd.DataFrame(dic)\n",
    "data"
   ]
  },
  {
   "cell_type": "code",
   "execution_count": 38,
   "id": "6fe43eea",
   "metadata": {},
   "outputs": [
    {
     "data": {
      "text/html": [
       "<div>\n",
       "<style scoped>\n",
       "    .dataframe tbody tr th:only-of-type {\n",
       "        vertical-align: middle;\n",
       "    }\n",
       "\n",
       "    .dataframe tbody tr th {\n",
       "        vertical-align: top;\n",
       "    }\n",
       "\n",
       "    .dataframe thead th {\n",
       "        text-align: right;\n",
       "    }\n",
       "</style>\n",
       "<table border=\"1\" class=\"dataframe\">\n",
       "  <thead>\n",
       "    <tr style=\"text-align: right;\">\n",
       "      <th></th>\n",
       "      <th>Name</th>\n",
       "      <th>Age</th>\n",
       "      <th>Location</th>\n",
       "      <th>Profession</th>\n",
       "      <th>Fav_colour</th>\n",
       "    </tr>\n",
       "  </thead>\n",
       "  <tbody>\n",
       "    <tr>\n",
       "      <th>0</th>\n",
       "      <td>Simran</td>\n",
       "      <td>26</td>\n",
       "      <td>Ggn</td>\n",
       "      <td>Data Analyst</td>\n",
       "      <td>Yellow</td>\n",
       "    </tr>\n",
       "    <tr>\n",
       "      <th>1</th>\n",
       "      <td>Prateek</td>\n",
       "      <td>31</td>\n",
       "      <td>Ggn</td>\n",
       "      <td>Business-man</td>\n",
       "      <td>Blue</td>\n",
       "    </tr>\n",
       "    <tr>\n",
       "      <th>2</th>\n",
       "      <td>Suman</td>\n",
       "      <td>22</td>\n",
       "      <td>Delhi</td>\n",
       "      <td>Cook</td>\n",
       "      <td>Red</td>\n",
       "    </tr>\n",
       "    <tr>\n",
       "      <th>3</th>\n",
       "      <td>Nonu</td>\n",
       "      <td>29</td>\n",
       "      <td>Chamoli</td>\n",
       "      <td>Vet Doctor</td>\n",
       "      <td>Green</td>\n",
       "    </tr>\n",
       "  </tbody>\n",
       "</table>\n",
       "</div>"
      ],
      "text/plain": [
       "      Name  Age Location    Profession Fav_colour\n",
       "0   Simran   26      Ggn  Data Analyst     Yellow\n",
       "1  Prateek   31      Ggn  Business-man       Blue\n",
       "2    Suman   22    Delhi          Cook        Red\n",
       "3     Nonu   29  Chamoli    Vet Doctor      Green"
      ]
     },
     "execution_count": 38,
     "metadata": {},
     "output_type": "execute_result"
    }
   ],
   "source": [
    "#Add new column\n",
    "data[\"Fav_colour\"]=[\"Yellow\",\"Blue\",\"Red\",\"Green\"]\n",
    "data"
   ]
  },
  {
   "cell_type": "code",
   "execution_count": 39,
   "id": "e84e0b1d",
   "metadata": {},
   "outputs": [
    {
     "data": {
      "text/html": [
       "<div>\n",
       "<style scoped>\n",
       "    .dataframe tbody tr th:only-of-type {\n",
       "        vertical-align: middle;\n",
       "    }\n",
       "\n",
       "    .dataframe tbody tr th {\n",
       "        vertical-align: top;\n",
       "    }\n",
       "\n",
       "    .dataframe thead th {\n",
       "        text-align: right;\n",
       "    }\n",
       "</style>\n",
       "<table border=\"1\" class=\"dataframe\">\n",
       "  <thead>\n",
       "    <tr style=\"text-align: right;\">\n",
       "      <th></th>\n",
       "      <th>Name</th>\n",
       "      <th>Age</th>\n",
       "      <th>Location</th>\n",
       "      <th>Profession</th>\n",
       "      <th>Fav_colour</th>\n",
       "    </tr>\n",
       "  </thead>\n",
       "  <tbody>\n",
       "    <tr>\n",
       "      <th>0</th>\n",
       "      <td>Simran</td>\n",
       "      <td>26</td>\n",
       "      <td>Ggn</td>\n",
       "      <td>Data Analyst</td>\n",
       "      <td>Yellow</td>\n",
       "    </tr>\n",
       "    <tr>\n",
       "      <th>1</th>\n",
       "      <td>Prateek</td>\n",
       "      <td>31</td>\n",
       "      <td>Ggn</td>\n",
       "      <td>Business-man</td>\n",
       "      <td>Blue</td>\n",
       "    </tr>\n",
       "    <tr>\n",
       "      <th>2</th>\n",
       "      <td>Suman</td>\n",
       "      <td>22</td>\n",
       "      <td>Delhi</td>\n",
       "      <td>Cook</td>\n",
       "      <td>Red</td>\n",
       "    </tr>\n",
       "    <tr>\n",
       "      <th>3</th>\n",
       "      <td>Nonu</td>\n",
       "      <td>29</td>\n",
       "      <td>Chamoli</td>\n",
       "      <td>Vet Doctor</td>\n",
       "      <td>Green</td>\n",
       "    </tr>\n",
       "    <tr>\n",
       "      <th>4</th>\n",
       "      <td>Zina</td>\n",
       "      <td>24</td>\n",
       "      <td>Dubai</td>\n",
       "      <td>Singer</td>\n",
       "      <td>Orange</td>\n",
       "    </tr>\n",
       "  </tbody>\n",
       "</table>\n",
       "</div>"
      ],
      "text/plain": [
       "      Name  Age Location    Profession Fav_colour\n",
       "0   Simran   26      Ggn  Data Analyst     Yellow\n",
       "1  Prateek   31      Ggn  Business-man       Blue\n",
       "2    Suman   22    Delhi          Cook        Red\n",
       "3     Nonu   29  Chamoli    Vet Doctor      Green\n",
       "4     Zina   24    Dubai        Singer     Orange"
      ]
     },
     "execution_count": 39,
     "metadata": {},
     "output_type": "execute_result"
    }
   ],
   "source": [
    "#Add new row\n",
    "data.loc[4]=[\"Zina\",24,\"Dubai\",\"Singer\",\"Orange\"]\n",
    "data"
   ]
  },
  {
   "cell_type": "code",
   "execution_count": 40,
   "id": "38832a6d",
   "metadata": {},
   "outputs": [
    {
     "data": {
      "text/html": [
       "<div>\n",
       "<style scoped>\n",
       "    .dataframe tbody tr th:only-of-type {\n",
       "        vertical-align: middle;\n",
       "    }\n",
       "\n",
       "    .dataframe tbody tr th {\n",
       "        vertical-align: top;\n",
       "    }\n",
       "\n",
       "    .dataframe thead th {\n",
       "        text-align: right;\n",
       "    }\n",
       "</style>\n",
       "<table border=\"1\" class=\"dataframe\">\n",
       "  <thead>\n",
       "    <tr style=\"text-align: right;\">\n",
       "      <th></th>\n",
       "      <th>Name</th>\n",
       "      <th>Age</th>\n",
       "      <th>Location</th>\n",
       "      <th>Profession</th>\n",
       "      <th>Fav_colour</th>\n",
       "    </tr>\n",
       "  </thead>\n",
       "  <tbody>\n",
       "    <tr>\n",
       "      <th>0</th>\n",
       "      <td>Simran</td>\n",
       "      <td>26</td>\n",
       "      <td>Ggn</td>\n",
       "      <td>Data Analyst</td>\n",
       "      <td>Yellow</td>\n",
       "    </tr>\n",
       "    <tr>\n",
       "      <th>1</th>\n",
       "      <td>Prateek</td>\n",
       "      <td>31</td>\n",
       "      <td>Ggn</td>\n",
       "      <td>Business-man</td>\n",
       "      <td>Blue</td>\n",
       "    </tr>\n",
       "    <tr>\n",
       "      <th>2</th>\n",
       "      <td>Suman</td>\n",
       "      <td>22</td>\n",
       "      <td>Delhi</td>\n",
       "      <td>Cook</td>\n",
       "      <td>Red</td>\n",
       "    </tr>\n",
       "    <tr>\n",
       "      <th>3</th>\n",
       "      <td>Nonu</td>\n",
       "      <td>29</td>\n",
       "      <td>Chamoli</td>\n",
       "      <td>Vet Doctor</td>\n",
       "      <td>Green</td>\n",
       "    </tr>\n",
       "    <tr>\n",
       "      <th>4</th>\n",
       "      <td>Zina</td>\n",
       "      <td>27</td>\n",
       "      <td>Dubai</td>\n",
       "      <td>Singer</td>\n",
       "      <td>Orange</td>\n",
       "    </tr>\n",
       "  </tbody>\n",
       "</table>\n",
       "</div>"
      ],
      "text/plain": [
       "      Name  Age Location    Profession Fav_colour\n",
       "0   Simran   26      Ggn  Data Analyst     Yellow\n",
       "1  Prateek   31      Ggn  Business-man       Blue\n",
       "2    Suman   22    Delhi          Cook        Red\n",
       "3     Nonu   29  Chamoli    Vet Doctor      Green\n",
       "4     Zina   27    Dubai        Singer     Orange"
      ]
     },
     "execution_count": 40,
     "metadata": {},
     "output_type": "execute_result"
    }
   ],
   "source": [
    "#Edit DataFrame changing age of Zina to 27\n",
    "\n",
    "data.loc[data[\"Name\"]==\"Zina\",\"Age\"]=27\n",
    "data"
   ]
  },
  {
   "cell_type": "markdown",
   "id": "62ff9a64",
   "metadata": {},
   "source": [
    "### Write a Python program to sort a DataFrame by multiple columns."
   ]
  },
  {
   "cell_type": "code",
   "execution_count": 41,
   "id": "d670cf78",
   "metadata": {},
   "outputs": [
    {
     "data": {
      "text/html": [
       "<div>\n",
       "<style scoped>\n",
       "    .dataframe tbody tr th:only-of-type {\n",
       "        vertical-align: middle;\n",
       "    }\n",
       "\n",
       "    .dataframe tbody tr th {\n",
       "        vertical-align: top;\n",
       "    }\n",
       "\n",
       "    .dataframe thead th {\n",
       "        text-align: right;\n",
       "    }\n",
       "</style>\n",
       "<table border=\"1\" class=\"dataframe\">\n",
       "  <thead>\n",
       "    <tr style=\"text-align: right;\">\n",
       "      <th></th>\n",
       "      <th>Name</th>\n",
       "      <th>Age</th>\n",
       "      <th>Location</th>\n",
       "      <th>Profession</th>\n",
       "      <th>Fav_colour</th>\n",
       "    </tr>\n",
       "  </thead>\n",
       "  <tbody>\n",
       "    <tr>\n",
       "      <th>0</th>\n",
       "      <td>Simran</td>\n",
       "      <td>26</td>\n",
       "      <td>Ggn</td>\n",
       "      <td>Data Analyst</td>\n",
       "      <td>Yellow</td>\n",
       "    </tr>\n",
       "    <tr>\n",
       "      <th>1</th>\n",
       "      <td>Prateek</td>\n",
       "      <td>31</td>\n",
       "      <td>Ggn</td>\n",
       "      <td>Business-man</td>\n",
       "      <td>Blue</td>\n",
       "    </tr>\n",
       "    <tr>\n",
       "      <th>2</th>\n",
       "      <td>Suman</td>\n",
       "      <td>22</td>\n",
       "      <td>Delhi</td>\n",
       "      <td>Cook</td>\n",
       "      <td>Red</td>\n",
       "    </tr>\n",
       "    <tr>\n",
       "      <th>3</th>\n",
       "      <td>Nonu</td>\n",
       "      <td>29</td>\n",
       "      <td>Chamoli</td>\n",
       "      <td>Vet Doctor</td>\n",
       "      <td>Green</td>\n",
       "    </tr>\n",
       "    <tr>\n",
       "      <th>4</th>\n",
       "      <td>Zina</td>\n",
       "      <td>27</td>\n",
       "      <td>Dubai</td>\n",
       "      <td>Singer</td>\n",
       "      <td>Orange</td>\n",
       "    </tr>\n",
       "  </tbody>\n",
       "</table>\n",
       "</div>"
      ],
      "text/plain": [
       "      Name  Age Location    Profession Fav_colour\n",
       "0   Simran   26      Ggn  Data Analyst     Yellow\n",
       "1  Prateek   31      Ggn  Business-man       Blue\n",
       "2    Suman   22    Delhi          Cook        Red\n",
       "3     Nonu   29  Chamoli    Vet Doctor      Green\n",
       "4     Zina   27    Dubai        Singer     Orange"
      ]
     },
     "execution_count": 41,
     "metadata": {},
     "output_type": "execute_result"
    }
   ],
   "source": [
    "data.sort_values([\"Location\",\"Age\"],ascending=[True,True])\n",
    "data"
   ]
  },
  {
   "cell_type": "markdown",
   "id": "0e2c20e4",
   "metadata": {},
   "source": [
    "### Write a Python program to drop rows with missing values in a pandas DataFrame."
   ]
  },
  {
   "cell_type": "code",
   "execution_count": 42,
   "id": "5d2e180d",
   "metadata": {},
   "outputs": [
    {
     "data": {
      "text/html": [
       "<div>\n",
       "<style scoped>\n",
       "    .dataframe tbody tr th:only-of-type {\n",
       "        vertical-align: middle;\n",
       "    }\n",
       "\n",
       "    .dataframe tbody tr th {\n",
       "        vertical-align: top;\n",
       "    }\n",
       "\n",
       "    .dataframe thead th {\n",
       "        text-align: right;\n",
       "    }\n",
       "</style>\n",
       "<table border=\"1\" class=\"dataframe\">\n",
       "  <thead>\n",
       "    <tr style=\"text-align: right;\">\n",
       "      <th></th>\n",
       "      <th>Name</th>\n",
       "      <th>Age</th>\n",
       "      <th>Location</th>\n",
       "      <th>Profession</th>\n",
       "      <th>Fav_colour</th>\n",
       "    </tr>\n",
       "  </thead>\n",
       "  <tbody>\n",
       "    <tr>\n",
       "      <th>0</th>\n",
       "      <td>Simran</td>\n",
       "      <td>26.0</td>\n",
       "      <td>Ggn</td>\n",
       "      <td>Data Analyst</td>\n",
       "      <td>Yellow</td>\n",
       "    </tr>\n",
       "    <tr>\n",
       "      <th>1</th>\n",
       "      <td>Prateek</td>\n",
       "      <td>31.0</td>\n",
       "      <td>Ggn</td>\n",
       "      <td>Business-man</td>\n",
       "      <td>Blue</td>\n",
       "    </tr>\n",
       "    <tr>\n",
       "      <th>2</th>\n",
       "      <td>Suman</td>\n",
       "      <td>22.0</td>\n",
       "      <td>Delhi</td>\n",
       "      <td>Cook</td>\n",
       "      <td>Red</td>\n",
       "    </tr>\n",
       "    <tr>\n",
       "      <th>3</th>\n",
       "      <td>Nonu</td>\n",
       "      <td>29.0</td>\n",
       "      <td>Chamoli</td>\n",
       "      <td>Vet Doctor</td>\n",
       "      <td>Green</td>\n",
       "    </tr>\n",
       "    <tr>\n",
       "      <th>4</th>\n",
       "      <td>Zina</td>\n",
       "      <td>27.0</td>\n",
       "      <td>Dubai</td>\n",
       "      <td>Singer</td>\n",
       "      <td>Orange</td>\n",
       "    </tr>\n",
       "    <tr>\n",
       "      <th>5</th>\n",
       "      <td>Ankit</td>\n",
       "      <td>NaN</td>\n",
       "      <td>Bihar</td>\n",
       "      <td>SDE</td>\n",
       "      <td>Black</td>\n",
       "    </tr>\n",
       "  </tbody>\n",
       "</table>\n",
       "</div>"
      ],
      "text/plain": [
       "      Name   Age Location    Profession Fav_colour\n",
       "0   Simran  26.0      Ggn  Data Analyst     Yellow\n",
       "1  Prateek  31.0      Ggn  Business-man       Blue\n",
       "2    Suman  22.0    Delhi          Cook        Red\n",
       "3     Nonu  29.0  Chamoli    Vet Doctor      Green\n",
       "4     Zina  27.0    Dubai        Singer     Orange\n",
       "5    Ankit   NaN    Bihar           SDE      Black"
      ]
     },
     "execution_count": 42,
     "metadata": {},
     "output_type": "execute_result"
    }
   ],
   "source": [
    "data.loc[5]=[\"Ankit\",np.nan, \"Bihar\",\"SDE\",\"Black\"]\n",
    "data"
   ]
  },
  {
   "cell_type": "code",
   "execution_count": 43,
   "id": "46fb1ed4",
   "metadata": {},
   "outputs": [
    {
     "data": {
      "text/html": [
       "<div>\n",
       "<style scoped>\n",
       "    .dataframe tbody tr th:only-of-type {\n",
       "        vertical-align: middle;\n",
       "    }\n",
       "\n",
       "    .dataframe tbody tr th {\n",
       "        vertical-align: top;\n",
       "    }\n",
       "\n",
       "    .dataframe thead th {\n",
       "        text-align: right;\n",
       "    }\n",
       "</style>\n",
       "<table border=\"1\" class=\"dataframe\">\n",
       "  <thead>\n",
       "    <tr style=\"text-align: right;\">\n",
       "      <th></th>\n",
       "      <th>Name</th>\n",
       "      <th>Age</th>\n",
       "      <th>Location</th>\n",
       "      <th>Profession</th>\n",
       "      <th>Fav_colour</th>\n",
       "    </tr>\n",
       "  </thead>\n",
       "  <tbody>\n",
       "    <tr>\n",
       "      <th>0</th>\n",
       "      <td>Simran</td>\n",
       "      <td>26.0</td>\n",
       "      <td>Ggn</td>\n",
       "      <td>Data Analyst</td>\n",
       "      <td>Yellow</td>\n",
       "    </tr>\n",
       "    <tr>\n",
       "      <th>1</th>\n",
       "      <td>Prateek</td>\n",
       "      <td>31.0</td>\n",
       "      <td>Ggn</td>\n",
       "      <td>Business-man</td>\n",
       "      <td>Blue</td>\n",
       "    </tr>\n",
       "    <tr>\n",
       "      <th>2</th>\n",
       "      <td>Suman</td>\n",
       "      <td>22.0</td>\n",
       "      <td>Delhi</td>\n",
       "      <td>Cook</td>\n",
       "      <td>Red</td>\n",
       "    </tr>\n",
       "    <tr>\n",
       "      <th>3</th>\n",
       "      <td>Nonu</td>\n",
       "      <td>29.0</td>\n",
       "      <td>Chamoli</td>\n",
       "      <td>Vet Doctor</td>\n",
       "      <td>Green</td>\n",
       "    </tr>\n",
       "    <tr>\n",
       "      <th>4</th>\n",
       "      <td>Zina</td>\n",
       "      <td>27.0</td>\n",
       "      <td>Dubai</td>\n",
       "      <td>Singer</td>\n",
       "      <td>Orange</td>\n",
       "    </tr>\n",
       "  </tbody>\n",
       "</table>\n",
       "</div>"
      ],
      "text/plain": [
       "      Name   Age Location    Profession Fav_colour\n",
       "0   Simran  26.0      Ggn  Data Analyst     Yellow\n",
       "1  Prateek  31.0      Ggn  Business-man       Blue\n",
       "2    Suman  22.0    Delhi          Cook        Red\n",
       "3     Nonu  29.0  Chamoli    Vet Doctor      Green\n",
       "4     Zina  27.0    Dubai        Singer     Orange"
      ]
     },
     "execution_count": 43,
     "metadata": {},
     "output_type": "execute_result"
    }
   ],
   "source": [
    "data=data.dropna()\n",
    "data"
   ]
  },
  {
   "cell_type": "markdown",
   "id": "82d31e91",
   "metadata": {},
   "source": [
    "### Given a DataFrame, replace all occurrences of a specific value with another value."
   ]
  },
  {
   "cell_type": "code",
   "execution_count": 44,
   "id": "7ee6af0d",
   "metadata": {},
   "outputs": [
    {
     "data": {
      "text/html": [
       "<div>\n",
       "<style scoped>\n",
       "    .dataframe tbody tr th:only-of-type {\n",
       "        vertical-align: middle;\n",
       "    }\n",
       "\n",
       "    .dataframe tbody tr th {\n",
       "        vertical-align: top;\n",
       "    }\n",
       "\n",
       "    .dataframe thead th {\n",
       "        text-align: right;\n",
       "    }\n",
       "</style>\n",
       "<table border=\"1\" class=\"dataframe\">\n",
       "  <thead>\n",
       "    <tr style=\"text-align: right;\">\n",
       "      <th></th>\n",
       "      <th>Name</th>\n",
       "      <th>Age</th>\n",
       "      <th>Location</th>\n",
       "      <th>Profession</th>\n",
       "      <th>Fav_colour</th>\n",
       "    </tr>\n",
       "  </thead>\n",
       "  <tbody>\n",
       "    <tr>\n",
       "      <th>0</th>\n",
       "      <td>Simran</td>\n",
       "      <td>26.0</td>\n",
       "      <td>Gurgoan</td>\n",
       "      <td>Data Analyst</td>\n",
       "      <td>Yellow</td>\n",
       "    </tr>\n",
       "    <tr>\n",
       "      <th>1</th>\n",
       "      <td>Prateek</td>\n",
       "      <td>31.0</td>\n",
       "      <td>Gurgoan</td>\n",
       "      <td>Business-man</td>\n",
       "      <td>Blue</td>\n",
       "    </tr>\n",
       "    <tr>\n",
       "      <th>2</th>\n",
       "      <td>Suman</td>\n",
       "      <td>22.0</td>\n",
       "      <td>Delhi</td>\n",
       "      <td>Cook</td>\n",
       "      <td>Red</td>\n",
       "    </tr>\n",
       "    <tr>\n",
       "      <th>3</th>\n",
       "      <td>Nonu</td>\n",
       "      <td>29.0</td>\n",
       "      <td>Chamoli</td>\n",
       "      <td>Vet Doctor</td>\n",
       "      <td>Green</td>\n",
       "    </tr>\n",
       "    <tr>\n",
       "      <th>4</th>\n",
       "      <td>Zina</td>\n",
       "      <td>27.0</td>\n",
       "      <td>Dubai</td>\n",
       "      <td>Singer</td>\n",
       "      <td>Orange</td>\n",
       "    </tr>\n",
       "  </tbody>\n",
       "</table>\n",
       "</div>"
      ],
      "text/plain": [
       "      Name   Age Location    Profession Fav_colour\n",
       "0   Simran  26.0  Gurgoan  Data Analyst     Yellow\n",
       "1  Prateek  31.0  Gurgoan  Business-man       Blue\n",
       "2    Suman  22.0    Delhi          Cook        Red\n",
       "3     Nonu  29.0  Chamoli    Vet Doctor      Green\n",
       "4     Zina  27.0    Dubai        Singer     Orange"
      ]
     },
     "execution_count": 44,
     "metadata": {},
     "output_type": "execute_result"
    }
   ],
   "source": [
    "data=data.replace(to_replace=\"Ggn\",value=\"Gurgoan\")\n",
    "data"
   ]
  },
  {
   "cell_type": "markdown",
   "id": "f6e7ce82",
   "metadata": {},
   "source": [
    "### Write a Python program to select rows of a DataFrame where a column value is greater than a given threshold."
   ]
  },
  {
   "cell_type": "code",
   "execution_count": 45,
   "id": "e4bd4b2f",
   "metadata": {},
   "outputs": [
    {
     "data": {
      "text/html": [
       "<div>\n",
       "<style scoped>\n",
       "    .dataframe tbody tr th:only-of-type {\n",
       "        vertical-align: middle;\n",
       "    }\n",
       "\n",
       "    .dataframe tbody tr th {\n",
       "        vertical-align: top;\n",
       "    }\n",
       "\n",
       "    .dataframe thead th {\n",
       "        text-align: right;\n",
       "    }\n",
       "</style>\n",
       "<table border=\"1\" class=\"dataframe\">\n",
       "  <thead>\n",
       "    <tr style=\"text-align: right;\">\n",
       "      <th></th>\n",
       "      <th>Name</th>\n",
       "      <th>Age</th>\n",
       "      <th>Location</th>\n",
       "      <th>Profession</th>\n",
       "      <th>Fav_colour</th>\n",
       "    </tr>\n",
       "  </thead>\n",
       "  <tbody>\n",
       "    <tr>\n",
       "      <th>1</th>\n",
       "      <td>Prateek</td>\n",
       "      <td>31.0</td>\n",
       "      <td>Gurgoan</td>\n",
       "      <td>Business-man</td>\n",
       "      <td>Blue</td>\n",
       "    </tr>\n",
       "    <tr>\n",
       "      <th>3</th>\n",
       "      <td>Nonu</td>\n",
       "      <td>29.0</td>\n",
       "      <td>Chamoli</td>\n",
       "      <td>Vet Doctor</td>\n",
       "      <td>Green</td>\n",
       "    </tr>\n",
       "    <tr>\n",
       "      <th>4</th>\n",
       "      <td>Zina</td>\n",
       "      <td>27.0</td>\n",
       "      <td>Dubai</td>\n",
       "      <td>Singer</td>\n",
       "      <td>Orange</td>\n",
       "    </tr>\n",
       "  </tbody>\n",
       "</table>\n",
       "</div>"
      ],
      "text/plain": [
       "      Name   Age Location    Profession Fav_colour\n",
       "1  Prateek  31.0  Gurgoan  Business-man       Blue\n",
       "3     Nonu  29.0  Chamoli    Vet Doctor      Green\n",
       "4     Zina  27.0    Dubai        Singer     Orange"
      ]
     },
     "execution_count": 45,
     "metadata": {},
     "output_type": "execute_result"
    }
   ],
   "source": [
    "filtered=data[data[\"Age\"]>26]\n",
    "filtered"
   ]
  },
  {
   "cell_type": "markdown",
   "id": "528c32a5",
   "metadata": {},
   "source": [
    "### Extract specific columns from a DataFrame and save them to a CSV file."
   ]
  },
  {
   "cell_type": "code",
   "execution_count": 46,
   "id": "be25688f",
   "metadata": {},
   "outputs": [
    {
     "data": {
      "text/plain": [
       "0     Simran\n",
       "1    Prateek\n",
       "2      Suman\n",
       "3       Nonu\n",
       "4       Zina\n",
       "Name: Name, dtype: object"
      ]
     },
     "execution_count": 46,
     "metadata": {},
     "output_type": "execute_result"
    }
   ],
   "source": [
    "data1=data[\"Name\"]\n",
    "data1"
   ]
  },
  {
   "cell_type": "code",
   "execution_count": 48,
   "id": "4a500643",
   "metadata": {},
   "outputs": [],
   "source": [
    "data1.to_csv(\"Data\")"
   ]
  },
  {
   "cell_type": "markdown",
   "id": "716ff1cc",
   "metadata": {},
   "source": [
    "### Write a Python program to group a DataFrame by a column and calculate the mean of another column."
   ]
  },
  {
   "cell_type": "code",
   "execution_count": 51,
   "id": "769e664f",
   "metadata": {},
   "outputs": [
    {
     "data": {
      "text/plain": [
       "Location\n",
       "Chamoli    29.0\n",
       "Delhi      22.0\n",
       "Dubai      27.0\n",
       "Gurgoan    28.5\n",
       "Name: Age, dtype: float64"
      ]
     },
     "execution_count": 51,
     "metadata": {},
     "output_type": "execute_result"
    }
   ],
   "source": [
    "new=data.groupby(\"Location\")[\"Age\"].mean()\n",
    "new"
   ]
  },
  {
   "cell_type": "markdown",
   "id": "de0f4da3",
   "metadata": {},
   "source": [
    "### How would you find the total, mean, and count of a column grouped by another column?"
   ]
  },
  {
   "cell_type": "code",
   "execution_count": 52,
   "id": "cd478bb6",
   "metadata": {},
   "outputs": [
    {
     "data": {
      "text/html": [
       "<div>\n",
       "<style scoped>\n",
       "    .dataframe tbody tr th:only-of-type {\n",
       "        vertical-align: middle;\n",
       "    }\n",
       "\n",
       "    .dataframe tbody tr th {\n",
       "        vertical-align: top;\n",
       "    }\n",
       "\n",
       "    .dataframe thead th {\n",
       "        text-align: right;\n",
       "    }\n",
       "</style>\n",
       "<table border=\"1\" class=\"dataframe\">\n",
       "  <thead>\n",
       "    <tr style=\"text-align: right;\">\n",
       "      <th></th>\n",
       "      <th>sum</th>\n",
       "      <th>mean</th>\n",
       "      <th>count</th>\n",
       "    </tr>\n",
       "    <tr>\n",
       "      <th>Location</th>\n",
       "      <th></th>\n",
       "      <th></th>\n",
       "      <th></th>\n",
       "    </tr>\n",
       "  </thead>\n",
       "  <tbody>\n",
       "    <tr>\n",
       "      <th>Chamoli</th>\n",
       "      <td>29.0</td>\n",
       "      <td>29.0</td>\n",
       "      <td>1</td>\n",
       "    </tr>\n",
       "    <tr>\n",
       "      <th>Delhi</th>\n",
       "      <td>22.0</td>\n",
       "      <td>22.0</td>\n",
       "      <td>1</td>\n",
       "    </tr>\n",
       "    <tr>\n",
       "      <th>Dubai</th>\n",
       "      <td>27.0</td>\n",
       "      <td>27.0</td>\n",
       "      <td>1</td>\n",
       "    </tr>\n",
       "    <tr>\n",
       "      <th>Gurgoan</th>\n",
       "      <td>57.0</td>\n",
       "      <td>28.5</td>\n",
       "      <td>2</td>\n",
       "    </tr>\n",
       "  </tbody>\n",
       "</table>\n",
       "</div>"
      ],
      "text/plain": [
       "           sum  mean  count\n",
       "Location                   \n",
       "Chamoli   29.0  29.0      1\n",
       "Delhi     22.0  22.0      1\n",
       "Dubai     27.0  27.0      1\n",
       "Gurgoan   57.0  28.5      2"
      ]
     },
     "execution_count": 52,
     "metadata": {},
     "output_type": "execute_result"
    }
   ],
   "source": [
    "new=data.groupby(\"Location\")[\"Age\"].agg([\"sum\",\"mean\",\"count\"])\n",
    "new"
   ]
  },
  {
   "cell_type": "markdown",
   "id": "f5ab93e0",
   "metadata": {},
   "source": [
    "### Write a Python program to merge two DataFrames on a common column."
   ]
  },
  {
   "cell_type": "code",
   "execution_count": 54,
   "id": "7035d189",
   "metadata": {},
   "outputs": [
    {
     "name": "stdout",
     "output_type": "stream",
     "text": [
      "   ID     Name  Age\n",
      "0   1    Alice   25\n",
      "1   2      Bob   30\n",
      "2   3  Charlie   35\n",
      "3   4    David   40\n",
      "   ID Department  Salary\n",
      "0   3         HR   50000\n",
      "1   4    Finance   60000\n",
      "2   5         IT   70000\n",
      "3   6  Marketing   80000\n"
     ]
    }
   ],
   "source": [
    "# Create raw data for the first DataFrame\n",
    "data1 = {\n",
    "    'ID': [1, 2, 3, 4],\n",
    "    'Name': ['Alice', 'Bob', 'Charlie', 'David'],\n",
    "    'Age': [25, 30, 35, 40]\n",
    "}\n",
    "\n",
    "data2 = {\n",
    "    'ID': [3, 4, 5, 6],\n",
    "    'Department': ['HR', 'Finance', 'IT', 'Marketing'],\n",
    "    'Salary': [50000, 60000, 70000, 80000]\n",
    "}\n",
    "\n",
    "# Create DataFrames from raw data\n",
    "df1 = pd.DataFrame(data1)\n",
    "df2 = pd.DataFrame(data2)\n",
    "\n",
    "print(df1)\n",
    "\n",
    "print(df2)"
   ]
  },
  {
   "cell_type": "code",
   "execution_count": 56,
   "id": "e0dcc468",
   "metadata": {},
   "outputs": [
    {
     "data": {
      "text/html": [
       "<div>\n",
       "<style scoped>\n",
       "    .dataframe tbody tr th:only-of-type {\n",
       "        vertical-align: middle;\n",
       "    }\n",
       "\n",
       "    .dataframe tbody tr th {\n",
       "        vertical-align: top;\n",
       "    }\n",
       "\n",
       "    .dataframe thead th {\n",
       "        text-align: right;\n",
       "    }\n",
       "</style>\n",
       "<table border=\"1\" class=\"dataframe\">\n",
       "  <thead>\n",
       "    <tr style=\"text-align: right;\">\n",
       "      <th></th>\n",
       "      <th>ID</th>\n",
       "      <th>Name</th>\n",
       "      <th>Age</th>\n",
       "      <th>Department</th>\n",
       "      <th>Salary</th>\n",
       "    </tr>\n",
       "  </thead>\n",
       "  <tbody>\n",
       "    <tr>\n",
       "      <th>0</th>\n",
       "      <td>1</td>\n",
       "      <td>Alice</td>\n",
       "      <td>25</td>\n",
       "      <td>NaN</td>\n",
       "      <td>NaN</td>\n",
       "    </tr>\n",
       "    <tr>\n",
       "      <th>1</th>\n",
       "      <td>2</td>\n",
       "      <td>Bob</td>\n",
       "      <td>30</td>\n",
       "      <td>NaN</td>\n",
       "      <td>NaN</td>\n",
       "    </tr>\n",
       "    <tr>\n",
       "      <th>2</th>\n",
       "      <td>3</td>\n",
       "      <td>Charlie</td>\n",
       "      <td>35</td>\n",
       "      <td>HR</td>\n",
       "      <td>50000.0</td>\n",
       "    </tr>\n",
       "    <tr>\n",
       "      <th>3</th>\n",
       "      <td>4</td>\n",
       "      <td>David</td>\n",
       "      <td>40</td>\n",
       "      <td>Finance</td>\n",
       "      <td>60000.0</td>\n",
       "    </tr>\n",
       "  </tbody>\n",
       "</table>\n",
       "</div>"
      ],
      "text/plain": [
       "   ID     Name  Age Department   Salary\n",
       "0   1    Alice   25        NaN      NaN\n",
       "1   2      Bob   30        NaN      NaN\n",
       "2   3  Charlie   35         HR  50000.0\n",
       "3   4    David   40    Finance  60000.0"
      ]
     },
     "execution_count": 56,
     "metadata": {},
     "output_type": "execute_result"
    }
   ],
   "source": [
    "newdf=pd.merge(df1,df2,how=\"left\", on=\"ID\")\n",
    "newdf"
   ]
  },
  {
   "cell_type": "markdown",
   "id": "13a70d74",
   "metadata": {},
   "source": [
    "### How would you concatenate two DataFrames vertically and reset the index?"
   ]
  },
  {
   "cell_type": "code",
   "execution_count": 58,
   "id": "99cfb736",
   "metadata": {},
   "outputs": [
    {
     "name": "stdout",
     "output_type": "stream",
     "text": [
      "   ID     Name  Score\n",
      "0   1    Alice     85\n",
      "1   2      Bob     90\n",
      "2   3  Charlie     95\n",
      "   ID   Name  Score\n",
      "0   4  David     88\n",
      "1   5    Eve     92\n",
      "2   6  Frank     96\n"
     ]
    }
   ],
   "source": [
    "# First DataFrame\n",
    "data1 = {\n",
    "    'ID': [1, 2, 3],\n",
    "    'Name': ['Alice', 'Bob', 'Charlie'],\n",
    "    'Score': [85, 90, 95]\n",
    "}\n",
    "df1 = pd.DataFrame(data1)\n",
    "\n",
    "# Second DataFrame\n",
    "data2 = {\n",
    "    'ID': [4, 5, 6],\n",
    "    'Name': ['David', 'Eve', 'Frank'],\n",
    "    'Score': [88, 92, 96]\n",
    "}\n",
    "df2 = pd.DataFrame(data2)\n",
    "\n",
    "print(df1)\n",
    "print(df2)"
   ]
  },
  {
   "cell_type": "code",
   "execution_count": 62,
   "id": "49daaa44",
   "metadata": {},
   "outputs": [
    {
     "data": {
      "text/html": [
       "<div>\n",
       "<style scoped>\n",
       "    .dataframe tbody tr th:only-of-type {\n",
       "        vertical-align: middle;\n",
       "    }\n",
       "\n",
       "    .dataframe tbody tr th {\n",
       "        vertical-align: top;\n",
       "    }\n",
       "\n",
       "    .dataframe thead th {\n",
       "        text-align: right;\n",
       "    }\n",
       "</style>\n",
       "<table border=\"1\" class=\"dataframe\">\n",
       "  <thead>\n",
       "    <tr style=\"text-align: right;\">\n",
       "      <th></th>\n",
       "      <th>ID</th>\n",
       "      <th>Name</th>\n",
       "      <th>Score</th>\n",
       "    </tr>\n",
       "  </thead>\n",
       "  <tbody>\n",
       "    <tr>\n",
       "      <th>0</th>\n",
       "      <td>1</td>\n",
       "      <td>Alice</td>\n",
       "      <td>85</td>\n",
       "    </tr>\n",
       "    <tr>\n",
       "      <th>1</th>\n",
       "      <td>2</td>\n",
       "      <td>Bob</td>\n",
       "      <td>90</td>\n",
       "    </tr>\n",
       "    <tr>\n",
       "      <th>2</th>\n",
       "      <td>3</td>\n",
       "      <td>Charlie</td>\n",
       "      <td>95</td>\n",
       "    </tr>\n",
       "    <tr>\n",
       "      <th>3</th>\n",
       "      <td>4</td>\n",
       "      <td>David</td>\n",
       "      <td>88</td>\n",
       "    </tr>\n",
       "    <tr>\n",
       "      <th>4</th>\n",
       "      <td>5</td>\n",
       "      <td>Eve</td>\n",
       "      <td>92</td>\n",
       "    </tr>\n",
       "    <tr>\n",
       "      <th>5</th>\n",
       "      <td>6</td>\n",
       "      <td>Frank</td>\n",
       "      <td>96</td>\n",
       "    </tr>\n",
       "  </tbody>\n",
       "</table>\n",
       "</div>"
      ],
      "text/plain": [
       "   ID     Name  Score\n",
       "0   1    Alice     85\n",
       "1   2      Bob     90\n",
       "2   3  Charlie     95\n",
       "3   4    David     88\n",
       "4   5      Eve     92\n",
       "5   6    Frank     96"
      ]
     },
     "execution_count": 62,
     "metadata": {},
     "output_type": "execute_result"
    }
   ],
   "source": [
    "newdata1=pd.concat((df1,df2),ignore_index=True)\n",
    "newdata1"
   ]
  },
  {
   "cell_type": "markdown",
   "id": "5f7056e8",
   "metadata": {},
   "source": [
    "### Write a Python program to convert a column of strings to datetime objects."
   ]
  },
  {
   "cell_type": "code",
   "execution_count": 67,
   "id": "87ec7032",
   "metadata": {},
   "outputs": [
    {
     "data": {
      "text/html": [
       "<div>\n",
       "<style scoped>\n",
       "    .dataframe tbody tr th:only-of-type {\n",
       "        vertical-align: middle;\n",
       "    }\n",
       "\n",
       "    .dataframe tbody tr th {\n",
       "        vertical-align: top;\n",
       "    }\n",
       "\n",
       "    .dataframe thead th {\n",
       "        text-align: right;\n",
       "    }\n",
       "</style>\n",
       "<table border=\"1\" class=\"dataframe\">\n",
       "  <thead>\n",
       "    <tr style=\"text-align: right;\">\n",
       "      <th></th>\n",
       "      <th>Date_String</th>\n",
       "    </tr>\n",
       "  </thead>\n",
       "  <tbody>\n",
       "    <tr>\n",
       "      <th>0</th>\n",
       "      <td>2025-01-01</td>\n",
       "    </tr>\n",
       "    <tr>\n",
       "      <th>1</th>\n",
       "      <td>2025-01-15</td>\n",
       "    </tr>\n",
       "    <tr>\n",
       "      <th>2</th>\n",
       "      <td>2025-01-22</td>\n",
       "    </tr>\n",
       "    <tr>\n",
       "      <th>3</th>\n",
       "      <td>2025-02-01</td>\n",
       "    </tr>\n",
       "  </tbody>\n",
       "</table>\n",
       "</div>"
      ],
      "text/plain": [
       "  Date_String\n",
       "0  2025-01-01\n",
       "1  2025-01-15\n",
       "2  2025-01-22\n",
       "3  2025-02-01"
      ]
     },
     "execution_count": 67,
     "metadata": {},
     "output_type": "execute_result"
    }
   ],
   "source": [
    "data = {\n",
    "    'Date_String': ['2025-01-01', '2025-01-15', '2025-01-22', '2025-02-01']\n",
    "}\n",
    "df = pd.DataFrame(data)\n",
    "df"
   ]
  },
  {
   "cell_type": "code",
   "execution_count": 68,
   "id": "46d3a36b",
   "metadata": {},
   "outputs": [
    {
     "data": {
      "text/html": [
       "<div>\n",
       "<style scoped>\n",
       "    .dataframe tbody tr th:only-of-type {\n",
       "        vertical-align: middle;\n",
       "    }\n",
       "\n",
       "    .dataframe tbody tr th {\n",
       "        vertical-align: top;\n",
       "    }\n",
       "\n",
       "    .dataframe thead th {\n",
       "        text-align: right;\n",
       "    }\n",
       "</style>\n",
       "<table border=\"1\" class=\"dataframe\">\n",
       "  <thead>\n",
       "    <tr style=\"text-align: right;\">\n",
       "      <th></th>\n",
       "      <th>Date_String</th>\n",
       "      <th>Date</th>\n",
       "    </tr>\n",
       "  </thead>\n",
       "  <tbody>\n",
       "    <tr>\n",
       "      <th>0</th>\n",
       "      <td>2025-01-01</td>\n",
       "      <td>2025-01-01</td>\n",
       "    </tr>\n",
       "    <tr>\n",
       "      <th>1</th>\n",
       "      <td>2025-01-15</td>\n",
       "      <td>2025-01-15</td>\n",
       "    </tr>\n",
       "    <tr>\n",
       "      <th>2</th>\n",
       "      <td>2025-01-22</td>\n",
       "      <td>2025-01-22</td>\n",
       "    </tr>\n",
       "    <tr>\n",
       "      <th>3</th>\n",
       "      <td>2025-02-01</td>\n",
       "      <td>2025-02-01</td>\n",
       "    </tr>\n",
       "  </tbody>\n",
       "</table>\n",
       "</div>"
      ],
      "text/plain": [
       "  Date_String       Date\n",
       "0  2025-01-01 2025-01-01\n",
       "1  2025-01-15 2025-01-15\n",
       "2  2025-01-22 2025-01-22\n",
       "3  2025-02-01 2025-02-01"
      ]
     },
     "execution_count": 68,
     "metadata": {},
     "output_type": "execute_result"
    }
   ],
   "source": [
    "df[\"Date\"]=pd.to_datetime(df[\"Date_String\"])\n",
    "df"
   ]
  },
  {
   "cell_type": "markdown",
   "id": "e4b8f67b",
   "metadata": {},
   "source": [
    "### How would you resample a time-series DataFrame to calculate weekly averages?"
   ]
  },
  {
   "cell_type": "code",
   "execution_count": 69,
   "id": "357e62c6",
   "metadata": {},
   "outputs": [
    {
     "data": {
      "text/html": [
       "<div>\n",
       "<style scoped>\n",
       "    .dataframe tbody tr th:only-of-type {\n",
       "        vertical-align: middle;\n",
       "    }\n",
       "\n",
       "    .dataframe tbody tr th {\n",
       "        vertical-align: top;\n",
       "    }\n",
       "\n",
       "    .dataframe thead th {\n",
       "        text-align: right;\n",
       "    }\n",
       "</style>\n",
       "<table border=\"1\" class=\"dataframe\">\n",
       "  <thead>\n",
       "    <tr style=\"text-align: right;\">\n",
       "      <th></th>\n",
       "      <th>Date</th>\n",
       "      <th>Value</th>\n",
       "    </tr>\n",
       "  </thead>\n",
       "  <tbody>\n",
       "    <tr>\n",
       "      <th>0</th>\n",
       "      <td>2025-01-01</td>\n",
       "      <td>10</td>\n",
       "    </tr>\n",
       "    <tr>\n",
       "      <th>1</th>\n",
       "      <td>2025-01-02</td>\n",
       "      <td>12</td>\n",
       "    </tr>\n",
       "    <tr>\n",
       "      <th>2</th>\n",
       "      <td>2025-01-03</td>\n",
       "      <td>14</td>\n",
       "    </tr>\n",
       "    <tr>\n",
       "      <th>3</th>\n",
       "      <td>2025-01-04</td>\n",
       "      <td>13</td>\n",
       "    </tr>\n",
       "    <tr>\n",
       "      <th>4</th>\n",
       "      <td>2025-01-05</td>\n",
       "      <td>15</td>\n",
       "    </tr>\n",
       "    <tr>\n",
       "      <th>5</th>\n",
       "      <td>2025-01-06</td>\n",
       "      <td>18</td>\n",
       "    </tr>\n",
       "    <tr>\n",
       "      <th>6</th>\n",
       "      <td>2025-01-07</td>\n",
       "      <td>20</td>\n",
       "    </tr>\n",
       "    <tr>\n",
       "      <th>7</th>\n",
       "      <td>2025-01-08</td>\n",
       "      <td>22</td>\n",
       "    </tr>\n",
       "    <tr>\n",
       "      <th>8</th>\n",
       "      <td>2025-01-09</td>\n",
       "      <td>25</td>\n",
       "    </tr>\n",
       "    <tr>\n",
       "      <th>9</th>\n",
       "      <td>2025-01-10</td>\n",
       "      <td>23</td>\n",
       "    </tr>\n",
       "    <tr>\n",
       "      <th>10</th>\n",
       "      <td>2025-01-11</td>\n",
       "      <td>21</td>\n",
       "    </tr>\n",
       "    <tr>\n",
       "      <th>11</th>\n",
       "      <td>2025-01-12</td>\n",
       "      <td>19</td>\n",
       "    </tr>\n",
       "    <tr>\n",
       "      <th>12</th>\n",
       "      <td>2025-01-13</td>\n",
       "      <td>17</td>\n",
       "    </tr>\n",
       "    <tr>\n",
       "      <th>13</th>\n",
       "      <td>2025-01-14</td>\n",
       "      <td>16</td>\n",
       "    </tr>\n",
       "  </tbody>\n",
       "</table>\n",
       "</div>"
      ],
      "text/plain": [
       "         Date  Value\n",
       "0  2025-01-01     10\n",
       "1  2025-01-02     12\n",
       "2  2025-01-03     14\n",
       "3  2025-01-04     13\n",
       "4  2025-01-05     15\n",
       "5  2025-01-06     18\n",
       "6  2025-01-07     20\n",
       "7  2025-01-08     22\n",
       "8  2025-01-09     25\n",
       "9  2025-01-10     23\n",
       "10 2025-01-11     21\n",
       "11 2025-01-12     19\n",
       "12 2025-01-13     17\n",
       "13 2025-01-14     16"
      ]
     },
     "execution_count": 69,
     "metadata": {},
     "output_type": "execute_result"
    }
   ],
   "source": [
    "data = {\n",
    "    'Date': pd.date_range(start='2025-01-01', periods=14, freq='D'),  # Daily frequency\n",
    "    'Value': [10, 12, 14, 13, 15, 18, 20, 22, 25, 23, 21, 19, 17, 16]\n",
    "}\n",
    "df = pd.DataFrame(data)\n",
    "df"
   ]
  },
  {
   "cell_type": "code",
   "execution_count": 73,
   "id": "6b054dce",
   "metadata": {},
   "outputs": [
    {
     "data": {
      "text/plain": [
       "Date\n",
       "2025-01-05    12.800000\n",
       "2025-01-12    21.142857\n",
       "2025-01-19    16.500000\n",
       "Freq: W-SUN, Name: Value, dtype: float64"
      ]
     },
     "execution_count": 73,
     "metadata": {},
     "output_type": "execute_result"
    }
   ],
   "source": [
    "weekly=df.resample('W',on=\"Date\")[\"Value\"].mean()\n",
    "weekly"
   ]
  },
  {
   "cell_type": "markdown",
   "id": "135d6341",
   "metadata": {},
   "source": [
    "Write a Python program that:\n",
    "\n",
    "Reads a CSV file containing sales data (e.g., date, product, sales).\n",
    "Calculates the total sales for each product using pandas.\n",
    "Creates a new column showing the percentage of total sales contributed by each product.\n",
    "Saves the updated DataFrame to a new CSV file."
   ]
  },
  {
   "cell_type": "code",
   "execution_count": null,
   "id": "f7d24889",
   "metadata": {},
   "outputs": [],
   "source": []
  },
  {
   "cell_type": "markdown",
   "id": "2f4f2d86",
   "metadata": {},
   "source": [
    "\n",
    "\n",
    "\n",
    "\n"
   ]
  },
  {
   "cell_type": "code",
   "execution_count": null,
   "id": "99372183",
   "metadata": {},
   "outputs": [],
   "source": []
  }
 ],
 "metadata": {
  "kernelspec": {
   "display_name": "Python 3 (ipykernel)",
   "language": "python",
   "name": "python3"
  },
  "language_info": {
   "codemirror_mode": {
    "name": "ipython",
    "version": 3
   },
   "file_extension": ".py",
   "mimetype": "text/x-python",
   "name": "python",
   "nbconvert_exporter": "python",
   "pygments_lexer": "ipython3",
   "version": "3.11.5"
  }
 },
 "nbformat": 4,
 "nbformat_minor": 5
}
