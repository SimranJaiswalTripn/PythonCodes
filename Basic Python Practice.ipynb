{
 "cells": [
  {
   "cell_type": "markdown",
   "id": "47c48805",
   "metadata": {},
   "source": [
    "<hr style=\"border:5px solid #108999\"> </hr>"
   ]
  },
  {
   "cell_type": "markdown",
   "id": "9e5141a9",
   "metadata": {},
   "source": [
    "# Python Parctice Questions <hr style=\"border:4.5px solid #108999\"> </hr>"
   ]
  },
  {
   "cell_type": "markdown",
   "id": "f0ea4852",
   "metadata": {},
   "source": [
    "## Variables & Data Type"
   ]
  },
  {
   "cell_type": "markdown",
   "id": "23c1c77b",
   "metadata": {},
   "source": [
    "WAP to take input 2 number and print their sum"
   ]
  },
  {
   "cell_type": "code",
   "execution_count": 142,
   "id": "f4231beb",
   "metadata": {},
   "outputs": [
    {
     "name": "stdout",
     "output_type": "stream",
     "text": [
      "Enter the first number 1\n",
      "Enter the second number 2\n",
      "Sum of 2 numbers is : 3\n"
     ]
    }
   ],
   "source": [
    "Num1=int(input(\"Enter the first number \"))\n",
    "Num2=int(input(\"Enter the second number \"))\n",
    "\n",
    "print(\"Sum of 2 numbers is :\", Num1+Num2)"
   ]
  },
  {
   "cell_type": "markdown",
   "id": "ddecc591",
   "metadata": {},
   "source": [
    "WAP to input side of square and print its area"
   ]
  },
  {
   "cell_type": "code",
   "execution_count": 6,
   "id": "bf1dd209",
   "metadata": {},
   "outputs": [
    {
     "name": "stdout",
     "output_type": "stream",
     "text": [
      "Enter the side of sq. 10.5\n",
      "Area of the square is : 110.25\n"
     ]
    }
   ],
   "source": [
    "Side=float(input(\"Enter the side of sq. \"))\n",
    "\n",
    "print(\"Area of the square is :\", Side**2)"
   ]
  },
  {
   "cell_type": "markdown",
   "id": "21459b76",
   "metadata": {},
   "source": [
    "WAP to take input 2 float value and print their avg."
   ]
  },
  {
   "cell_type": "code",
   "execution_count": 10,
   "id": "c926abd1",
   "metadata": {},
   "outputs": [
    {
     "name": "stdout",
     "output_type": "stream",
     "text": [
      "Enter the first number 20.5\n",
      "Enter the first number 22.5\n",
      "The avg. of 2 numbers are : 21.5\n"
     ]
    }
   ],
   "source": [
    "Num1=float(input(\"Enter the first number \"))\n",
    "Num2=float(input(\"Enter the second number \"))\n",
    "\n",
    "print(\"The avg. of 2 numbers are :\" ,(Num1+Num2)/2)"
   ]
  },
  {
   "cell_type": "markdown",
   "id": "839d6fd6",
   "metadata": {},
   "source": [
    "WAP to input 2 int number a and b\n",
    "Print True if a is greater then b, False if not"
   ]
  },
  {
   "cell_type": "code",
   "execution_count": 12,
   "id": "649ffd08",
   "metadata": {},
   "outputs": [
    {
     "name": "stdout",
     "output_type": "stream",
     "text": [
      "Enter the first number 10\n",
      "Enter the second number 2\n",
      "True\n"
     ]
    }
   ],
   "source": [
    "a=int(input(\"Enter the first number \"))\n",
    "b=int(input(\"Enter the second number \"))\n",
    "\n",
    "if(a>b):\n",
    "    print(\"True\")\n",
    "else:\n",
    "    print(\"False\")"
   ]
  },
  {
   "cell_type": "markdown",
   "id": "2b7ae2b7",
   "metadata": {},
   "source": [
    "## Strings and Conditions"
   ]
  },
  {
   "cell_type": "markdown",
   "id": "f4ae72ce",
   "metadata": {},
   "source": [
    "WAP to check if a number entered by user is Even or Odd"
   ]
  },
  {
   "cell_type": "code",
   "execution_count": 15,
   "id": "d3cb543d",
   "metadata": {},
   "outputs": [
    {
     "name": "stdout",
     "output_type": "stream",
     "text": [
      "Enter the number 22\n",
      "The number is Even\n"
     ]
    }
   ],
   "source": [
    "num=int(input(\"Enter the number \"))\n",
    "\n",
    "if(num%2==0):\n",
    "    print(\"The number is Even\")\n",
    "else:\n",
    "    print(\"The number is Odd\")"
   ]
  },
  {
   "cell_type": "markdown",
   "id": "edfd9a35",
   "metadata": {},
   "source": [
    "Find the greatest of 3 number entered by the user"
   ]
  },
  {
   "cell_type": "code",
   "execution_count": 19,
   "id": "7980ca72",
   "metadata": {},
   "outputs": [
    {
     "name": "stdout",
     "output_type": "stream",
     "text": [
      "Enter the first number 11\n",
      "Enter the second number 200\n",
      "Enter the third number 12\n",
      "The gratest number among three  is : 200\n"
     ]
    }
   ],
   "source": [
    "num1=int(input(\"Enter the first number \"))\n",
    "num2=int(input(\"Enter the second number \"))\n",
    "num3=int(input(\"Enter the third number \"))\n",
    "\n",
    "if(num1>num2 and num1>num3):\n",
    "    print(\"The gratest number among three  is :\", num1)\n",
    "elif(num2>num3):\n",
    "    print(\"The gratest number among three  is :\", num2)\n",
    "else:\n",
    "    print(\"The gratest number among three  is :\", num3)\n",
    "    "
   ]
  },
  {
   "cell_type": "markdown",
   "id": "90c21cce",
   "metadata": {},
   "source": [
    "WAP to check if a number is multiple of 7 or not"
   ]
  },
  {
   "cell_type": "code",
   "execution_count": 21,
   "id": "4dbb397f",
   "metadata": {},
   "outputs": [
    {
     "name": "stdout",
     "output_type": "stream",
     "text": [
      "Enter the number 77\n",
      "77  is a multiple of 7\n"
     ]
    }
   ],
   "source": [
    "num=int(input(\"Enter the number \"))\n",
    "\n",
    "if(num%7==0):\n",
    "    print(num, \" is a multiple of 7\")\n",
    "else:\n",
    "    print(num, \" is not a multiple of 7\")"
   ]
  },
  {
   "cell_type": "markdown",
   "id": "e6599c32",
   "metadata": {},
   "source": [
    "## Data Structure"
   ]
  },
  {
   "cell_type": "markdown",
   "id": "ff6a3c3d",
   "metadata": {},
   "source": [
    "WAP to ask user to enter the name of their 3 movie and store them in a list"
   ]
  },
  {
   "cell_type": "code",
   "execution_count": 23,
   "id": "8ef72c74",
   "metadata": {},
   "outputs": [
    {
     "name": "stdout",
     "output_type": "stream",
     "text": [
      "Enter your 1st Fav movie Main Hu Na\n",
      "Enter your 2nd Fav movie Insteller\n",
      "Enter your 3rd Fav movie 3 idiots\n",
      "Your Fav movies are : ['Main Hu Na', 'Insteller', '3 idiots']\n"
     ]
    }
   ],
   "source": [
    "movie=[]\n",
    "\n",
    "movie1=input(\"Enter your 1st Fav movie \")\n",
    "movie.append(movie1)\n",
    "\n",
    "movie2=input(\"Enter your 2nd Fav movie \")\n",
    "movie.append(movie2)\n",
    "\n",
    "movie3=input(\"Enter your 3rd Fav movie \")\n",
    "movie.append(movie3)\n",
    "\n",
    "print(\"Your Fav movies are :\", movie)"
   ]
  },
  {
   "cell_type": "markdown",
   "id": "1097658d",
   "metadata": {},
   "source": [
    "WAP to check if a list contains a palindrome elements"
   ]
  },
  {
   "cell_type": "code",
   "execution_count": 32,
   "id": "cd973acc",
   "metadata": {},
   "outputs": [
    {
     "name": "stdout",
     "output_type": "stream",
     "text": [
      "Yes, This list contains a palindrome elements \n"
     ]
    }
   ],
   "source": [
    "List1=[1,2,3,3,2,1]\n",
    "\n",
    "List2=List1.copy()\n",
    "List2.reverse()\n",
    "\n",
    "if(List1==List2):\n",
    "    print(\"Yes, This list contains a palindrome elements \")\n",
    "else:\n",
    "    print(\"No, This list does not contains a palindrome elements \")\n",
    "    "
   ]
  },
  {
   "cell_type": "markdown",
   "id": "20484ba4",
   "metadata": {},
   "source": [
    "WAP to count the number of student grade \"A\" in the following tuple"
   ]
  },
  {
   "cell_type": "code",
   "execution_count": 33,
   "id": "4fc75377",
   "metadata": {},
   "outputs": [
    {
     "data": {
      "text/plain": [
       "3"
      ]
     },
     "execution_count": 33,
     "metadata": {},
     "output_type": "execute_result"
    }
   ],
   "source": [
    "tuple1=(\"C\",\"D\",\"A\",\"A\",\"B\",\"B\",\"A\")\n",
    "\n",
    "tuple1.count(\"A\")"
   ]
  },
  {
   "cell_type": "markdown",
   "id": "2c03c201",
   "metadata": {},
   "source": [
    "Sort the follwing list from \"A\" To \"D\""
   ]
  },
  {
   "cell_type": "code",
   "execution_count": 44,
   "id": "c50883fb",
   "metadata": {},
   "outputs": [
    {
     "data": {
      "text/plain": [
       "['A', 'A', 'A', 'B', 'B', 'C', 'D']"
      ]
     },
     "execution_count": 44,
     "metadata": {},
     "output_type": "execute_result"
    }
   ],
   "source": [
    "List1=[\"C\",\"D\",\"A\",\"A\",\"B\",\"B\",\"A\"]\n",
    "List1.sort()\n",
    "List1"
   ]
  },
  {
   "cell_type": "markdown",
   "id": "44106aa5",
   "metadata": {},
   "source": [
    "Store the following word meaning in a python Dictionary\n",
    "\n",
    "table: \"a piece of Furniture\",\"list of facts and figures\"\n",
    "cat: \"a small animal\""
   ]
  },
  {
   "cell_type": "code",
   "execution_count": 47,
   "id": "194213b9",
   "metadata": {},
   "outputs": [
    {
     "data": {
      "text/plain": [
       "{'table': ['a piece of Furniture', 'list of facts and figures'],\n",
       " 'cat': 'a small animal'}"
      ]
     },
     "execution_count": 47,
     "metadata": {},
     "output_type": "execute_result"
    }
   ],
   "source": [
    "word_meaning={\"table\":[\"a piece of Furniture\",\"list of facts and figures\"],\n",
    "              \"cat\": \"a small animal\"\n",
    "             }\n",
    "\n",
    "word_meaning"
   ]
  },
  {
   "cell_type": "markdown",
   "id": "c4b68257",
   "metadata": {},
   "source": [
    "You are given a list of subject of students.Assume 1 classroom is required for 1 subject.How amany classroom are needed by students\n",
    "\"python\",\"java\",\"C++\",\"python\",\"javascript\",\"java\",\"python\",\"java\",\"C++\",\"C\""
   ]
  },
  {
   "cell_type": "code",
   "execution_count": 48,
   "id": "06b354fa",
   "metadata": {},
   "outputs": [
    {
     "data": {
      "text/plain": [
       "5"
      ]
     },
     "execution_count": 48,
     "metadata": {},
     "output_type": "execute_result"
    }
   ],
   "source": [
    "Subject={\"python\",\"java\",\"C++\",\"python\",\"javascript\",\"java\",\"python\",\"java\",\"C++\",\"C\"}\n",
    "len(Subject)"
   ]
  },
  {
   "cell_type": "markdown",
   "id": "14107358",
   "metadata": {},
   "source": [
    "WAP to enter marks of 3 subjects from the user and store them in a dict. Start with an empty dict and add one by one. Use subject name as key and marks as value."
   ]
  },
  {
   "cell_type": "code",
   "execution_count": 54,
   "id": "eddb10ea",
   "metadata": {},
   "outputs": [
    {
     "name": "stdout",
     "output_type": "stream",
     "text": [
      "Enter the Physics marks 90\n",
      "Enter the Chemistry marks 99\n",
      "Enter the Biology marks 98\n"
     ]
    },
    {
     "data": {
      "text/plain": [
       "{'Physics': '90', 'Chemistry': '99', 'Biology': '98'}"
      ]
     },
     "execution_count": 54,
     "metadata": {},
     "output_type": "execute_result"
    }
   ],
   "source": [
    "marks={}\n",
    "\n",
    "Phys=input(\"Enter the Physics marks \")\n",
    "Chem=input(\"Enter the Chemistry marks \")\n",
    "Bio=input(\"Enter the Biology marks \")\n",
    "\n",
    "marks[\"Physics\"]=Phys\n",
    "marks[\"Chemistry\"]=Chem\n",
    "marks[\"Biology\"]=Bio\n",
    "\n",
    "marks"
   ]
  },
  {
   "cell_type": "raw",
   "id": "561d3474",
   "metadata": {},
   "source": [
    "Figure out a way to store 9 and 9.0 as sperate value in a set"
   ]
  },
  {
   "cell_type": "code",
   "execution_count": 57,
   "id": "f2aa32f3",
   "metadata": {},
   "outputs": [
    {
     "data": {
      "text/plain": [
       "{('float', 9.0), ('int', 9)}"
      ]
     },
     "execution_count": 57,
     "metadata": {},
     "output_type": "execute_result"
    }
   ],
   "source": [
    "Values={(\"int\",9),(\"float\",9.0)}\n",
    "Values"
   ]
  },
  {
   "cell_type": "markdown",
   "id": "22116b6c",
   "metadata": {},
   "source": [
    "## Loops (while)"
   ]
  },
  {
   "cell_type": "markdown",
   "id": "d225fce4",
   "metadata": {},
   "source": [
    "Print Number 1 To 10 (Using While loop)"
   ]
  },
  {
   "cell_type": "code",
   "execution_count": 1,
   "id": "9a7e9e0f",
   "metadata": {},
   "outputs": [
    {
     "name": "stdout",
     "output_type": "stream",
     "text": [
      "1\n",
      "2\n",
      "3\n",
      "4\n",
      "5\n",
      "6\n",
      "7\n",
      "8\n",
      "9\n",
      "10\n"
     ]
    }
   ],
   "source": [
    "i=1\n",
    "while(i<=10):\n",
    "    print(i)\n",
    "    i+=1"
   ]
  },
  {
   "cell_type": "markdown",
   "id": "9a471d90",
   "metadata": {},
   "source": [
    "Print Number 10 To 1 (Using While loop)"
   ]
  },
  {
   "cell_type": "code",
   "execution_count": 5,
   "id": "361fd1c8",
   "metadata": {},
   "outputs": [
    {
     "name": "stdout",
     "output_type": "stream",
     "text": [
      "10\n",
      "9\n",
      "8\n",
      "7\n",
      "6\n",
      "5\n",
      "4\n",
      "3\n",
      "2\n",
      "1\n"
     ]
    }
   ],
   "source": [
    "i=10\n",
    "while(i>=1):\n",
    "    print(i)\n",
    "    i-=1"
   ]
  },
  {
   "cell_type": "markdown",
   "id": "37a01996",
   "metadata": {},
   "source": [
    "print the multiplication table of number n"
   ]
  },
  {
   "cell_type": "code",
   "execution_count": 7,
   "id": "7779bbeb",
   "metadata": {},
   "outputs": [
    {
     "name": "stdout",
     "output_type": "stream",
     "text": [
      "Enter the number 9\n",
      "9  *  1  =  9\n",
      "9  *  2  =  18\n",
      "9  *  3  =  27\n",
      "9  *  4  =  36\n",
      "9  *  5  =  45\n",
      "9  *  6  =  54\n",
      "9  *  7  =  63\n",
      "9  *  8  =  72\n",
      "9  *  9  =  81\n",
      "9  *  10  =  90\n"
     ]
    }
   ],
   "source": [
    "n=int(input(\"Enter the number \"))\n",
    "\n",
    "i=1\n",
    "\n",
    "while(i<=10):\n",
    "    print(n,\" * \", i, \" = \", n*i)\n",
    "    i+=1"
   ]
  },
  {
   "cell_type": "markdown",
   "id": "cd1e1b77",
   "metadata": {},
   "source": [
    "Print the elements of list in loop\n",
    "list2=[1,4,9,16,25,35,49,64,81,100]\n"
   ]
  },
  {
   "cell_type": "code",
   "execution_count": 21,
   "id": "ae84a7f9",
   "metadata": {},
   "outputs": [
    {
     "name": "stdout",
     "output_type": "stream",
     "text": [
      "1\n",
      "4\n",
      "9\n",
      "16\n",
      "25\n",
      "35\n",
      "49\n",
      "64\n",
      "81\n",
      "100\n"
     ]
    }
   ],
   "source": [
    "list2=[1,4,9,16,25,35,49,64,81,100]\n",
    "i=0\n",
    "\n",
    "while (i<len(list2)):\n",
    "    print(list2[i])\n",
    "    i+=1"
   ]
  },
  {
   "cell_type": "markdown",
   "id": "fe9aaff7",
   "metadata": {},
   "source": [
    "Search for number x in this tuple using loop\n",
    "tuple1=(1,4,9,16,25,35,49,64,81,100)"
   ]
  },
  {
   "cell_type": "code",
   "execution_count": 36,
   "id": "36a25c3b",
   "metadata": {},
   "outputs": [
    {
     "name": "stdout",
     "output_type": "stream",
     "text": [
      "Enter the number you want to search 25\n",
      "The number  25 is at index 4\n"
     ]
    }
   ],
   "source": [
    "x=int(input(\"Enter the number you want to search \"))\n",
    "\n",
    "\n",
    "tuple1=(1,4,9,16,25,35,49,64,81,100)\n",
    "\n",
    "\n",
    "i=0\n",
    "\n",
    "while i<len(tuple1):\n",
    "    if(x==tuple1[i]):\n",
    "        print(\"The number \", x ,\"is at index\", i)\n",
    "    \n",
    "    i+=1"
   ]
  },
  {
   "cell_type": "markdown",
   "id": "e2364713",
   "metadata": {},
   "source": [
    "## Loop (for)"
   ]
  },
  {
   "cell_type": "markdown",
   "id": "5a6c2ae1",
   "metadata": {},
   "source": [
    "Print the elements of list in loop list2=[1,4,9,16,25,35,49,64,81,100]"
   ]
  },
  {
   "cell_type": "code",
   "execution_count": 40,
   "id": "e135999d",
   "metadata": {},
   "outputs": [
    {
     "name": "stdout",
     "output_type": "stream",
     "text": [
      "1\n",
      "4\n",
      "9\n",
      "16\n",
      "25\n",
      "35\n",
      "49\n",
      "64\n",
      "81\n",
      "100\n"
     ]
    }
   ],
   "source": [
    "list2=[1,4,9,16,25,35,49,64,81,100]\n",
    "\n",
    "for i in range(len(list2)):\n",
    "    print(list2[i])\n",
    "    "
   ]
  },
  {
   "cell_type": "markdown",
   "id": "29ef9cfa",
   "metadata": {},
   "source": [
    "Search for number x in this tuple using loop tuple1=(1,4,9,16,25,35,49,64,81,100)"
   ]
  },
  {
   "cell_type": "code",
   "execution_count": 43,
   "id": "d31e5b8b",
   "metadata": {},
   "outputs": [
    {
     "name": "stdout",
     "output_type": "stream",
     "text": [
      "Enter the number you want to search 4\n",
      "The number 4 is at index  1\n"
     ]
    }
   ],
   "source": [
    "x=int(input(\"Enter the number you want to search \"))\n",
    "\n",
    "tuple1=(1,4,9,16,25,35,49,64,81,100)\n",
    "\n",
    "for i in range(len(tuple1)):\n",
    "    if(tuple1[i]==x):\n",
    "        print(\"The number\", x,\"is at index \", i)"
   ]
  },
  {
   "cell_type": "markdown",
   "id": "6851dd5a",
   "metadata": {},
   "source": [
    "print number 1 to 10 using for and range"
   ]
  },
  {
   "cell_type": "code",
   "execution_count": 45,
   "id": "6a9ece4c",
   "metadata": {},
   "outputs": [
    {
     "name": "stdout",
     "output_type": "stream",
     "text": [
      "1\n",
      "2\n",
      "3\n",
      "4\n",
      "5\n",
      "6\n",
      "7\n",
      "8\n",
      "9\n",
      "10\n"
     ]
    }
   ],
   "source": [
    "for i in range(1,11):\n",
    "    print(i)"
   ]
  },
  {
   "cell_type": "markdown",
   "id": "4a9e4de5",
   "metadata": {},
   "source": [
    "print number 10 to 1 using for and range"
   ]
  },
  {
   "cell_type": "code",
   "execution_count": 47,
   "id": "9148e296",
   "metadata": {},
   "outputs": [
    {
     "name": "stdout",
     "output_type": "stream",
     "text": [
      "10\n",
      "9\n",
      "8\n",
      "7\n",
      "6\n",
      "5\n",
      "4\n",
      "3\n",
      "2\n",
      "1\n"
     ]
    }
   ],
   "source": [
    "for i in range(10,0,-1):\n",
    "    print(i)"
   ]
  },
  {
   "cell_type": "markdown",
   "id": "bd857e4f",
   "metadata": {},
   "source": [
    "print multiplication table of n, using for and range"
   ]
  },
  {
   "cell_type": "code",
   "execution_count": 50,
   "id": "01b3b723",
   "metadata": {},
   "outputs": [
    {
     "name": "stdout",
     "output_type": "stream",
     "text": [
      "Enter the number9\n",
      "9  *  1  =  9\n",
      "9  *  2  =  18\n",
      "9  *  3  =  27\n",
      "9  *  4  =  36\n",
      "9  *  5  =  45\n",
      "9  *  6  =  54\n",
      "9  *  7  =  63\n",
      "9  *  8  =  72\n",
      "9  *  9  =  81\n",
      "9  *  10  =  90\n"
     ]
    }
   ],
   "source": [
    "n=int(input(\"Enter the number\"))\n",
    "for i in range(1,11):\n",
    "    print(n ,\" * \", i, \" = \", n*i)"
   ]
  },
  {
   "cell_type": "markdown",
   "id": "14cb15b7",
   "metadata": {},
   "source": [
    "WAP to find the sum of first n numbers, (while loop)"
   ]
  },
  {
   "cell_type": "code",
   "execution_count": 58,
   "id": "afcecc4d",
   "metadata": {},
   "outputs": [
    {
     "name": "stdout",
     "output_type": "stream",
     "text": [
      "Enter the number 10\n"
     ]
    },
    {
     "data": {
      "text/plain": [
       "55"
      ]
     },
     "execution_count": 58,
     "metadata": {},
     "output_type": "execute_result"
    }
   ],
   "source": [
    "n=int(input(\"Enter the number \"))\n",
    "\n",
    "i=1\n",
    "sum1=0\n",
    "while(i<=n):\n",
    "    sum1=sum1+i\n",
    "    i+=1\n",
    "\n",
    "sum1\n"
   ]
  },
  {
   "cell_type": "markdown",
   "id": "da8df551",
   "metadata": {},
   "source": [
    "WAP to find the factorial of first n number (using for loop)"
   ]
  },
  {
   "cell_type": "code",
   "execution_count": 63,
   "id": "2e3499b7",
   "metadata": {},
   "outputs": [
    {
     "name": "stdout",
     "output_type": "stream",
     "text": [
      "Enter the number 5\n"
     ]
    },
    {
     "data": {
      "text/plain": [
       "120"
      ]
     },
     "execution_count": 63,
     "metadata": {},
     "output_type": "execute_result"
    }
   ],
   "source": [
    "n=int(input(\"Enter the number \"))\n",
    "\n",
    "i=1\n",
    "fac=1\n",
    "\n",
    "for i in range(1,n+1):\n",
    "    fac=fac*i\n",
    "    i+=1\n",
    "\n",
    "fac"
   ]
  },
  {
   "cell_type": "markdown",
   "id": "f59ecacd",
   "metadata": {},
   "source": [
    "## Functions and recursion"
   ]
  },
  {
   "cell_type": "markdown",
   "id": "8a78619e",
   "metadata": {},
   "source": [
    "WAF to print the len of the list (List in Parameter)"
   ]
  },
  {
   "cell_type": "code",
   "execution_count": 65,
   "id": "ea7b41fe",
   "metadata": {},
   "outputs": [],
   "source": [
    "def lengthoflist(a):\n",
    "    return (len(a))"
   ]
  },
  {
   "cell_type": "code",
   "execution_count": 67,
   "id": "349a9819",
   "metadata": {},
   "outputs": [
    {
     "data": {
      "text/plain": [
       "10"
      ]
     },
     "execution_count": 67,
     "metadata": {},
     "output_type": "execute_result"
    }
   ],
   "source": [
    "list2=[1,4,9,16,25,35,49,64,81,100]\n",
    "lengthoflist(list2)"
   ]
  },
  {
   "cell_type": "markdown",
   "id": "1a719d7f",
   "metadata": {},
   "source": [
    "WAF to print element of list in single line"
   ]
  },
  {
   "cell_type": "code",
   "execution_count": 71,
   "id": "3eef29d6",
   "metadata": {},
   "outputs": [],
   "source": [
    "def elements(li):\n",
    "    for i in range(len(li)):\n",
    "        print(li[i],end=\" \")\n",
    "        i+=1\n"
   ]
  },
  {
   "cell_type": "code",
   "execution_count": 73,
   "id": "840e6694",
   "metadata": {},
   "outputs": [
    {
     "name": "stdout",
     "output_type": "stream",
     "text": [
      "1 4 9 16 25 35 49 64 81 100 "
     ]
    }
   ],
   "source": [
    "list2=[1,4,9,16,25,35,49,64,81,100]\n",
    "elements(list2)"
   ]
  },
  {
   "cell_type": "markdown",
   "id": "a84e30ac",
   "metadata": {},
   "source": [
    "WAF to find factorial no. of n"
   ]
  },
  {
   "cell_type": "code",
   "execution_count": 77,
   "id": "fc433c6d",
   "metadata": {},
   "outputs": [],
   "source": [
    "def fac(n):\n",
    "    fact=1\n",
    "    for i in range(1,n+1):\n",
    "        fact=fact*i\n",
    "    i+=1\n",
    "    return fact\n",
    "        "
   ]
  },
  {
   "cell_type": "code",
   "execution_count": 79,
   "id": "b99cf31c",
   "metadata": {},
   "outputs": [
    {
     "data": {
      "text/plain": [
       "120"
      ]
     },
     "execution_count": 79,
     "metadata": {},
     "output_type": "execute_result"
    }
   ],
   "source": [
    "fac(5)"
   ]
  },
  {
   "cell_type": "markdown",
   "id": "9a429e38",
   "metadata": {},
   "source": [
    "WAF to covert USD in INR"
   ]
  },
  {
   "cell_type": "code",
   "execution_count": 81,
   "id": "f1ce0410",
   "metadata": {},
   "outputs": [],
   "source": [
    "def convert(n):\n",
    "    return(n*8.5)"
   ]
  },
  {
   "cell_type": "code",
   "execution_count": 83,
   "id": "8579ff17",
   "metadata": {},
   "outputs": [
    {
     "data": {
      "text/plain": [
       "722.5"
      ]
     },
     "execution_count": 83,
     "metadata": {},
     "output_type": "execute_result"
    }
   ],
   "source": [
    "convert(85)"
   ]
  },
  {
   "cell_type": "markdown",
   "id": "40e4decd",
   "metadata": {},
   "source": [
    "## Recussion"
   ]
  },
  {
   "cell_type": "raw",
   "id": "42b9d57a",
   "metadata": {},
   "source": [
    "Write a recursive function to find out factorial of n natural number"
   ]
  },
  {
   "cell_type": "code",
   "execution_count": 88,
   "id": "7fc7a985",
   "metadata": {},
   "outputs": [],
   "source": [
    "def facto(n):\n",
    "    if(n==1):\n",
    "        return\n",
    "    return(n*fac(n-1))\n",
    "  "
   ]
  },
  {
   "cell_type": "code",
   "execution_count": 90,
   "id": "189e97f9",
   "metadata": {},
   "outputs": [
    {
     "data": {
      "text/plain": [
       "120"
      ]
     },
     "execution_count": 90,
     "metadata": {},
     "output_type": "execute_result"
    }
   ],
   "source": [
    "facto(5)"
   ]
  },
  {
   "cell_type": "markdown",
   "id": "4737c50c",
   "metadata": {},
   "source": [
    "Write a recursive function to calculate sum of n natural numbers"
   ]
  },
  {
   "cell_type": "code",
   "execution_count": 121,
   "id": "9b7d90a3",
   "metadata": {},
   "outputs": [],
   "source": [
    "def cal_sum(n):\n",
    "    if(n==0):\n",
    "        return 0\n",
    "    return cal_sum(n-1) + n"
   ]
  },
  {
   "cell_type": "code",
   "execution_count": 125,
   "id": "da9c1fce",
   "metadata": {},
   "outputs": [
    {
     "data": {
      "text/plain": [
       "21"
      ]
     },
     "execution_count": 125,
     "metadata": {},
     "output_type": "execute_result"
    }
   ],
   "source": [
    "cal_sum(6)"
   ]
  },
  {
   "cell_type": "markdown",
   "id": "c7b6289d",
   "metadata": {},
   "source": [
    "Write a recursive function to print all element of list"
   ]
  },
  {
   "cell_type": "code",
   "execution_count": 140,
   "id": "6d722b5e",
   "metadata": {},
   "outputs": [],
   "source": [
    "def elements(list1,idx=0):\n",
    "    if(idx==len(list1)):\n",
    "        return \n",
    "    print(list1[idx])\n",
    "    elements(list1,idx+1)\n",
    "    "
   ]
  },
  {
   "cell_type": "code",
   "execution_count": 141,
   "id": "d8d27d68",
   "metadata": {},
   "outputs": [
    {
     "name": "stdout",
     "output_type": "stream",
     "text": [
      "1\n",
      "4\n",
      "9\n",
      "16\n",
      "25\n",
      "35\n",
      "49\n",
      "64\n",
      "81\n",
      "100\n"
     ]
    }
   ],
   "source": [
    "list2=[1,4,9,16,25,35,49,64,81,100]\n",
    "elements(list2)"
   ]
  }
 ],
 "metadata": {
  "kernelspec": {
   "display_name": "Python 3 (ipykernel)",
   "language": "python",
   "name": "python3"
  },
  "language_info": {
   "codemirror_mode": {
    "name": "ipython",
    "version": 3
   },
   "file_extension": ".py",
   "mimetype": "text/x-python",
   "name": "python",
   "nbconvert_exporter": "python",
   "pygments_lexer": "ipython3",
   "version": "3.11.5"
  }
 },
 "nbformat": 4,
 "nbformat_minor": 5
}
