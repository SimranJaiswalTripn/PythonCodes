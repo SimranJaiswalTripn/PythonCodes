{
 "cells": [
  {
   "cell_type": "code",
   "execution_count": 1,
   "id": "f828c829",
   "metadata": {},
   "outputs": [
    {
     "name": "stderr",
     "output_type": "stream",
     "text": [
      "C:\\Users\\Admin\\anaconda3\\Lib\\site-packages\\pandas\\core\\arrays\\masked.py:60: UserWarning: Pandas requires version '1.3.6' or newer of 'bottleneck' (version '1.3.5' currently installed).\n",
      "  from pandas.core import (\n"
     ]
    }
   ],
   "source": [
    "import pandas as pd\n",
    "import numpy as np"
   ]
  },
  {
   "cell_type": "markdown",
   "id": "892f7f7a",
   "metadata": {},
   "source": [
    "1. Write a function to merge two sorted lists into a single sorted list."
   ]
  },
  {
   "cell_type": "code",
   "execution_count": 2,
   "id": "b9fee497",
   "metadata": {},
   "outputs": [],
   "source": [
    "def mer_list(a,b):\n",
    "    a.extend(b)\n",
    "    a.sort()\n",
    "    return a\n",
    "    "
   ]
  },
  {
   "cell_type": "code",
   "execution_count": 3,
   "id": "a992b5a3",
   "metadata": {},
   "outputs": [
    {
     "data": {
      "text/plain": [
       "[1, 2, 2, 3, 3, 3, 5]"
      ]
     },
     "execution_count": 3,
     "metadata": {},
     "output_type": "execute_result"
    }
   ],
   "source": [
    "li1=[1,2,3]\n",
    "li2=[3,5,3,2]\n",
    "mer_list(li1,li2)\n"
   ]
  },
  {
   "cell_type": "markdown",
   "id": "086b12dd",
   "metadata": {},
   "source": [
    "2. Write a function to find the common elements between two lists."
   ]
  },
  {
   "cell_type": "code",
   "execution_count": 4,
   "id": "ed59a0e0",
   "metadata": {},
   "outputs": [],
   "source": [
    "def common (a,b):\n",
    "    a1=set(a)\n",
    "    b1=set(b)\n",
    "    return a1.union(b1)"
   ]
  },
  {
   "cell_type": "code",
   "execution_count": 5,
   "id": "7cc9ff86",
   "metadata": {},
   "outputs": [
    {
     "data": {
      "text/plain": [
       "{1, 2, 3, 5}"
      ]
     },
     "execution_count": 5,
     "metadata": {},
     "output_type": "execute_result"
    }
   ],
   "source": [
    "li1=[1,2,3]\n",
    "li2=[3,5,3,2]\n",
    "\n",
    "common(li1,li2)"
   ]
  },
  {
   "cell_type": "markdown",
   "id": "94b885f5",
   "metadata": {},
   "source": [
    "3. Write a program to count the number of vowels in a given string."
   ]
  },
  {
   "cell_type": "code",
   "execution_count": 6,
   "id": "0531cc2b",
   "metadata": {},
   "outputs": [],
   "source": [
    "def count_vowel(a):\n",
    "    count=0\n",
    "    vowel=[\"a\",\"e\",\"i\",\"o\",\"u\"]\n",
    "    for i in a:\n",
    "        if (i in vowel):\n",
    "            count+=1\n",
    "    return count"
   ]
  },
  {
   "cell_type": "code",
   "execution_count": 7,
   "id": "f2b81721",
   "metadata": {},
   "outputs": [
    {
     "data": {
      "text/plain": [
       "2"
      ]
     },
     "execution_count": 7,
     "metadata": {},
     "output_type": "execute_result"
    }
   ],
   "source": [
    "count_vowel(\"Simran\")"
   ]
  },
  {
   "cell_type": "markdown",
   "id": "e788dd47",
   "metadata": {},
   "source": [
    "4. Write a program to check if a number is a perfect square."
   ]
  },
  {
   "cell_type": "code",
   "execution_count": 8,
   "id": "2a8f90b0",
   "metadata": {},
   "outputs": [],
   "source": [
    "def per_sq(a):\n",
    "    for i in range(int(a/2)):\n",
    "        if(i*i==a):\n",
    "            is_perfectsq=True\n",
    "            break\n",
    "        else:\n",
    "            is_perfectsq=False\n",
    "    \n",
    "    if(is_perfectsq==True):\n",
    "        a= \"Yes,This is a perfect square\"\n",
    "    else :\n",
    "        a= \"No, This is not a perfect square\"\n",
    "        \n",
    "    return a\n",
    "\n",
    "    \n",
    "            \n",
    "        "
   ]
  },
  {
   "cell_type": "code",
   "execution_count": 9,
   "id": "cd621633",
   "metadata": {},
   "outputs": [
    {
     "data": {
      "text/plain": [
       "'No, This is not a perfect square'"
      ]
     },
     "execution_count": 9,
     "metadata": {},
     "output_type": "execute_result"
    }
   ],
   "source": [
    "per_sq(10)"
   ]
  },
  {
   "cell_type": "markdown",
   "id": "d4562b60",
   "metadata": {},
   "source": [
    "5. Write a function to calculate the Fibonacci sequence up to the nth term."
   ]
  },
  {
   "cell_type": "code",
   "execution_count": 10,
   "id": "fea8736e",
   "metadata": {},
   "outputs": [],
   "source": [
    "def Fibonacci(n):\n",
    "    lis=[0,1]\n",
    "    while (n-1>=len(lis)):\n",
    "        lis.append(lis[-1]+lis[-2])\n",
    "    return lis\n",
    "            \n",
    "        "
   ]
  },
  {
   "cell_type": "code",
   "execution_count": 11,
   "id": "a85a2c7d",
   "metadata": {},
   "outputs": [
    {
     "data": {
      "text/plain": [
       "[0, 1, 1, 2, 3, 5, 8, 13, 21, 34]"
      ]
     },
     "execution_count": 11,
     "metadata": {},
     "output_type": "execute_result"
    }
   ],
   "source": [
    "Fibonacci(10)"
   ]
  },
  {
   "cell_type": "markdown",
   "id": "19853df2",
   "metadata": {},
   "source": [
    "6. Write a program to find the sum of digits of a number."
   ]
  },
  {
   "cell_type": "code",
   "execution_count": 12,
   "id": "1bc67090",
   "metadata": {},
   "outputs": [],
   "source": [
    "def sumdigit(n):\n",
    "    a=str(n)\n",
    "    sum1=0\n",
    "    for i in a:\n",
    "        p=int(i)\n",
    "        sum1=sum1+p\n",
    "    return sum1"
   ]
  },
  {
   "cell_type": "code",
   "execution_count": 13,
   "id": "4cfeb4ba",
   "metadata": {},
   "outputs": [
    {
     "data": {
      "text/plain": [
       "3"
      ]
     },
     "execution_count": 13,
     "metadata": {},
     "output_type": "execute_result"
    }
   ],
   "source": [
    "sumdigit(111)\n"
   ]
  },
  {
   "cell_type": "markdown",
   "id": "e4abbe13",
   "metadata": {},
   "source": [
    "7. Write a program to print the first N prime numbers."
   ]
  },
  {
   "cell_type": "code",
   "execution_count": 14,
   "id": "ce41504a",
   "metadata": {},
   "outputs": [],
   "source": [
    "def is_prime(n):\n",
    "    if n<2:\n",
    "        return False\n",
    "    for i in range(2,int(n/2)+1):\n",
    "        if(n%i==0):\n",
    "            return False\n",
    "    return True\n",
    "\n",
    "def n_prime(n):\n",
    "    lis=[]\n",
    "    num=2\n",
    "    while (n>len(lis)):\n",
    "        if is_prime(num):\n",
    "            lis.append(num)\n",
    "        num=num+1\n",
    "    return lis\n",
    "\n"
   ]
  },
  {
   "cell_type": "code",
   "execution_count": 15,
   "id": "bb5e3da1",
   "metadata": {},
   "outputs": [
    {
     "data": {
      "text/plain": [
       "[2, 3, 5, 7]"
      ]
     },
     "execution_count": 15,
     "metadata": {},
     "output_type": "execute_result"
    }
   ],
   "source": [
    "n_prime(4)"
   ]
  },
  {
   "cell_type": "markdown",
   "id": "1178c85b",
   "metadata": {},
   "source": [
    "8. Write a program to check if a string is an anagram of another string."
   ]
  },
  {
   "cell_type": "code",
   "execution_count": 16,
   "id": "155c31b1",
   "metadata": {},
   "outputs": [],
   "source": [
    "def anagram(a,b):\n",
    "    if(len(a)!=len(b)):\n",
    "        return False\n",
    "    for i in a:\n",
    "        if(a.count(i)!=b.count(i)):\n",
    "            return False\n",
    "    return True"
   ]
  },
  {
   "cell_type": "code",
   "execution_count": 17,
   "id": "de48ed4b",
   "metadata": {},
   "outputs": [
    {
     "data": {
      "text/plain": [
       "True"
      ]
     },
     "execution_count": 17,
     "metadata": {},
     "output_type": "execute_result"
    }
   ],
   "source": [
    "anagram(\"biyi\",\"iiyb\")"
   ]
  },
  {
   "cell_type": "markdown",
   "id": "24d914c1",
   "metadata": {},
   "source": [
    "9. Write a program to sort a list of strings by their lengths."
   ]
  },
  {
   "cell_type": "code",
   "execution_count": 18,
   "id": "55c69912",
   "metadata": {},
   "outputs": [],
   "source": [
    "def len_sort(k):\n",
    "    k.sort(key=len)\n",
    "    return k\n",
    "        \n",
    "    "
   ]
  },
  {
   "cell_type": "code",
   "execution_count": 19,
   "id": "9e222a93",
   "metadata": {},
   "outputs": [
    {
     "data": {
      "text/plain": [
       "['Sir', 'Mama', 'hello']"
      ]
     },
     "execution_count": 19,
     "metadata": {},
     "output_type": "execute_result"
    }
   ],
   "source": [
    "a=[\"hello\",\"Sir\",\"Mama\"]\n",
    "len_sort(a)"
   ]
  },
  {
   "cell_type": "markdown",
   "id": "c78569ac",
   "metadata": {},
   "source": [
    "10. Write a function to find the intersection of two lists."
   ]
  },
  {
   "cell_type": "code",
   "execution_count": 20,
   "id": "8e026d09",
   "metadata": {},
   "outputs": [],
   "source": [
    "def inter(a,b):\n",
    "    a1=set(a)\n",
    "    b1=set(b)\n",
    "    x=a1.intersection(b1)\n",
    "    return x"
   ]
  },
  {
   "cell_type": "code",
   "execution_count": 21,
   "id": "63c6de56",
   "metadata": {},
   "outputs": [
    {
     "data": {
      "text/plain": [
       "{33, 44}"
      ]
     },
     "execution_count": 21,
     "metadata": {},
     "output_type": "execute_result"
    }
   ],
   "source": [
    "li1={11,22,44,33,55,33,33,44}\n",
    "li2={99,66,33,33,44}\n",
    "\n",
    "inter(li1,li2)"
   ]
  },
  {
   "cell_type": "markdown",
   "id": "21c6e817",
   "metadata": {},
   "source": [
    "11. Write a program to convert a list of tuples into a dictionary."
   ]
  },
  {
   "cell_type": "code",
   "execution_count": 22,
   "id": "49f8bc33",
   "metadata": {},
   "outputs": [],
   "source": [
    "def list_to_dict(a):\n",
    "    x=dict(a)\n",
    "    return x"
   ]
  },
  {
   "cell_type": "code",
   "execution_count": 23,
   "id": "2db5e847",
   "metadata": {},
   "outputs": [
    {
     "data": {
      "text/plain": [
       "{'name': 'Alice', 'age': 25, 'city': 'New York'}"
      ]
     },
     "execution_count": 23,
     "metadata": {},
     "output_type": "execute_result"
    }
   ],
   "source": [
    "tuples_list = [(\"name\", \"Alice\"), (\"age\", 25), (\"city\", \"New York\")]\n",
    "list_to_dict(tuples_list)"
   ]
  },
  {
   "cell_type": "markdown",
   "id": "119b29e1",
   "metadata": {},
   "source": [
    "12. Write a function to rotate a list by n positions."
   ]
  },
  {
   "cell_type": "code",
   "execution_count": 24,
   "id": "c558a65d",
   "metadata": {},
   "outputs": [],
   "source": [
    "def rotation(li,n):\n",
    "    n=n%len(li)\n",
    "    return li[-n:] + li[:-n]"
   ]
  },
  {
   "cell_type": "code",
   "execution_count": 25,
   "id": "8a453fee",
   "metadata": {},
   "outputs": [
    {
     "data": {
      "text/plain": [
       "[3, 4, 1, 2]"
      ]
     },
     "execution_count": 25,
     "metadata": {},
     "output_type": "execute_result"
    }
   ],
   "source": [
    "lis=[1,2,3,4]\n",
    "rotation(lis,2)"
   ]
  },
  {
   "cell_type": "markdown",
   "id": "14c48657",
   "metadata": {},
   "source": [
    "13. Write a program to find the longest word in a sentence."
   ]
  },
  {
   "cell_type": "code",
   "execution_count": 26,
   "id": "60e5d82b",
   "metadata": {},
   "outputs": [],
   "source": [
    "def longest_word(li):\n",
    "    return max(li,key=len)\n",
    "    \n",
    "    "
   ]
  },
  {
   "cell_type": "code",
   "execution_count": 27,
   "id": "d3e45594",
   "metadata": {},
   "outputs": [
    {
     "data": {
      "text/plain": [
       "'hello'"
      ]
     },
     "execution_count": 27,
     "metadata": {},
     "output_type": "execute_result"
    }
   ],
   "source": [
    "li=[\"hello\",\"man\",\"ok\"]\n",
    "longest_word(li)"
   ]
  },
  {
   "cell_type": "markdown",
   "id": "de9bd50b",
   "metadata": {},
   "source": [
    "14. Write a function to check if a list is sorted in ascending order."
   ]
  },
  {
   "cell_type": "code",
   "execution_count": 28,
   "id": "f1666433",
   "metadata": {},
   "outputs": [],
   "source": [
    "def is_list_sorted(list1):\n",
    "    list2=list1.copy()\n",
    "    list2.sort()\n",
    "    if(list1==list2):\n",
    "        return \"This is a sorted list\"\n",
    "    else:\n",
    "        return \"This is not a sorted list\"\n",
    "    "
   ]
  },
  {
   "cell_type": "code",
   "execution_count": 29,
   "id": "1cb329c4",
   "metadata": {},
   "outputs": [
    {
     "data": {
      "text/plain": [
       "'This is a sorted list'"
      ]
     },
     "execution_count": 29,
     "metadata": {},
     "output_type": "execute_result"
    }
   ],
   "source": [
    "list1=[1,2,3,4,5]\n",
    "\n",
    "is_list_sorted(list1)"
   ]
  },
  {
   "cell_type": "markdown",
   "id": "e6c9072d",
   "metadata": {},
   "source": [
    "15. Write a program to calculate the sum of squares of a list of numbers."
   ]
  },
  {
   "cell_type": "code",
   "execution_count": 30,
   "id": "34ac4361",
   "metadata": {},
   "outputs": [],
   "source": [
    "def sum_of_sq(list1):\n",
    "    sum1=0\n",
    "    for i in list1:\n",
    "        a=i*i\n",
    "        sum1+=a\n",
    "    return sum1"
   ]
  },
  {
   "cell_type": "code",
   "execution_count": 31,
   "id": "2dbd7705",
   "metadata": {},
   "outputs": [
    {
     "data": {
      "text/plain": [
       "55"
      ]
     },
     "execution_count": 31,
     "metadata": {},
     "output_type": "execute_result"
    }
   ],
   "source": [
    "list1=[1,2,3,4,5]\n",
    "\n",
    "sum_of_sq(list1)\n"
   ]
  },
  {
   "cell_type": "markdown",
   "id": "6f7ff119",
   "metadata": {},
   "source": [
    "16. Write a function to check if a given string is a valid number (integer or float)."
   ]
  },
  {
   "cell_type": "code",
   "execution_count": 32,
   "id": "aad851eb",
   "metadata": {},
   "outputs": [],
   "source": [
    "def check_number(a):\n",
    "    try:\n",
    "        float(a)\n",
    "        return \"This is a valid int/float\"\n",
    "    except:\n",
    "        return \"This is not a valid int/float\"\n",
    "        "
   ]
  },
  {
   "cell_type": "code",
   "execution_count": 33,
   "id": "3b14de33",
   "metadata": {},
   "outputs": [
    {
     "data": {
      "text/plain": [
       "'This is a valid int/float'"
      ]
     },
     "execution_count": 33,
     "metadata": {},
     "output_type": "execute_result"
    }
   ],
   "source": [
    "check_number(\"800\")"
   ]
  },
  {
   "cell_type": "markdown",
   "id": "176a7dfa",
   "metadata": {},
   "source": [
    "17. Write a program to find the median of a list of numbers."
   ]
  },
  {
   "cell_type": "code",
   "execution_count": 34,
   "id": "cc88134d",
   "metadata": {},
   "outputs": [],
   "source": [
    "def find_median(list2):\n",
    "    a=np.median(list2)\n",
    "    return a"
   ]
  },
  {
   "cell_type": "code",
   "execution_count": 35,
   "id": "fe34eac1",
   "metadata": {},
   "outputs": [
    {
     "data": {
      "text/plain": [
       "3.0"
      ]
     },
     "execution_count": 35,
     "metadata": {},
     "output_type": "execute_result"
    }
   ],
   "source": [
    "list1=[1,2,3,4,5]\n",
    "\n",
    "find_median(list1)"
   ]
  },
  {
   "cell_type": "markdown",
   "id": "c6a0d164",
   "metadata": {},
   "source": [
    "18. Write a function to calculate the nth triangular number."
   ]
  },
  {
   "cell_type": "code",
   "execution_count": 36,
   "id": "f12825b2",
   "metadata": {},
   "outputs": [],
   "source": [
    "def n_triangular_number(n):\n",
    "    if(n<1):\n",
    "        return \"The number should be positve integer\"\n",
    "    return n*(n+1)/2"
   ]
  },
  {
   "cell_type": "code",
   "execution_count": 37,
   "id": "0f8986e2",
   "metadata": {},
   "outputs": [
    {
     "data": {
      "text/plain": [
       "10.0"
      ]
     },
     "execution_count": 37,
     "metadata": {},
     "output_type": "execute_result"
    }
   ],
   "source": [
    "n_triangular_number(4)"
   ]
  },
  {
   "cell_type": "markdown",
   "id": "862e820b",
   "metadata": {},
   "source": [
    "19. Write a program to count the frequency of each character in a string."
   ]
  },
  {
   "cell_type": "code",
   "execution_count": 38,
   "id": "d93108f2",
   "metadata": {},
   "outputs": [],
   "source": [
    "def count_str(a):\n",
    "    count={}\n",
    "    for item in a:\n",
    "        count[item]=a.count(item)\n",
    "    return count"
   ]
  },
  {
   "cell_type": "code",
   "execution_count": 39,
   "id": "4e16663b",
   "metadata": {},
   "outputs": [
    {
     "data": {
      "text/plain": [
       "{'H': 1, 'e': 1, 'l': 2, 'o': 2}"
      ]
     },
     "execution_count": 39,
     "metadata": {},
     "output_type": "execute_result"
    }
   ],
   "source": [
    "count_str(\"Helloo\")"
   ]
  },
  {
   "cell_type": "markdown",
   "id": "c972ce71",
   "metadata": {},
   "source": [
    "20. Write a function to remove all occurrences of a specific element from a list."
   ]
  },
  {
   "cell_type": "code",
   "execution_count": 40,
   "id": "0a2a7b6c",
   "metadata": {},
   "outputs": [],
   "source": [
    "def remove_value(li,va):\n",
    "    c=li.count(va)\n",
    "    a=1\n",
    "    while(a<=c):\n",
    "        li.remove(va)\n",
    "        a+=1\n",
    "    return li\n",
    "    "
   ]
  },
  {
   "cell_type": "code",
   "execution_count": 41,
   "id": "dbede0f6",
   "metadata": {},
   "outputs": [
    {
     "data": {
      "text/plain": [
       "[1, 2, 2, 2, 2, 2, 2, 2]"
      ]
     },
     "execution_count": 41,
     "metadata": {},
     "output_type": "execute_result"
    }
   ],
   "source": [
    "list1=[1,2,2,3,3,2,2,2,2,2]\n",
    "remove_value(list1,3)"
   ]
  },
  {
   "cell_type": "markdown",
   "id": "6ee7c2bd",
   "metadata": {},
   "source": [
    "21. Write a program to reverse the words in a string without reversing the characters."
   ]
  },
  {
   "cell_type": "code",
   "execution_count": 42,
   "id": "9f68e00f",
   "metadata": {},
   "outputs": [],
   "source": [
    "def reversewords(a):\n",
    "    x=a.split()\n",
    "    return x[: :-1]\n",
    "    "
   ]
  },
  {
   "cell_type": "code",
   "execution_count": 43,
   "id": "6c112ef6",
   "metadata": {},
   "outputs": [
    {
     "data": {
      "text/plain": [
       "['sentence', 'a', 'is', 'This']"
      ]
     },
     "execution_count": 43,
     "metadata": {},
     "output_type": "execute_result"
    }
   ],
   "source": [
    "sen=\"This is a sentence\"\n",
    "reversewords(sen)"
   ]
  },
  {
   "cell_type": "markdown",
   "id": "9eb5cac0",
   "metadata": {},
   "source": [
    "22. Write a program to merge multiple dictionaries into one."
   ]
  },
  {
   "cell_type": "code",
   "execution_count": 44,
   "id": "b23a75aa",
   "metadata": {},
   "outputs": [],
   "source": [
    "def merge_dict(*d):\n",
    "    new_dict={}\n",
    "    for i in d:\n",
    "        new_dict.update(i)\n",
    "    return new_dict\n",
    "        "
   ]
  },
  {
   "cell_type": "code",
   "execution_count": 45,
   "id": "6377b143",
   "metadata": {},
   "outputs": [
    {
     "data": {
      "text/plain": [
       "{'a': 1, 'b': 2, 'c': 3, 'd': 4, 'e': 5, 'f': 6, 'g': 7, 'h': 8, 'i': 9}"
      ]
     },
     "execution_count": 45,
     "metadata": {},
     "output_type": "execute_result"
    }
   ],
   "source": [
    "dict1={'a':1,'b':2,'c':3}\n",
    "dict2={'d':4,'e':5,'f':6}\n",
    "dict3={'g':7,'h':8,'i':9}\n",
    "\n",
    "merge_dict(dict1,dict2,dict3)"
   ]
  },
  {
   "cell_type": "markdown",
   "id": "1d43f63f",
   "metadata": {},
   "source": [
    "23. Write a function to find the first non-repeating character in a string."
   ]
  },
  {
   "cell_type": "code",
   "execution_count": 46,
   "id": "0020038a",
   "metadata": {},
   "outputs": [],
   "source": [
    "def first_non_repeating(li):\n",
    "    for i in li:\n",
    "        if(li.count(i)==1):\n",
    "            return i\n",
    "    return none"
   ]
  },
  {
   "cell_type": "code",
   "execution_count": 47,
   "id": "f1400365",
   "metadata": {},
   "outputs": [
    {
     "data": {
      "text/plain": [
       "1"
      ]
     },
     "execution_count": 47,
     "metadata": {},
     "output_type": "execute_result"
    }
   ],
   "source": [
    "list1=[2,2,1,3,3,3,2,2,2,2,4,2,8]\n",
    "first_non_repeating(list1)"
   ]
  },
  {
   "cell_type": "markdown",
   "id": "b530687a",
   "metadata": {},
   "source": [
    "24. Write a program to print the multiplication table of a number."
   ]
  },
  {
   "cell_type": "code",
   "execution_count": 48,
   "id": "b84bc6ff",
   "metadata": {},
   "outputs": [],
   "source": [
    "def multiple_table(n):\n",
    "    for i in range(1,11):\n",
    "        print(n, \"*\", i ,\"=\" ,n*i)"
   ]
  },
  {
   "cell_type": "code",
   "execution_count": 49,
   "id": "19fbad0a",
   "metadata": {},
   "outputs": [
    {
     "name": "stdout",
     "output_type": "stream",
     "text": [
      "5 * 1 = 5\n",
      "5 * 2 = 10\n",
      "5 * 3 = 15\n",
      "5 * 4 = 20\n",
      "5 * 5 = 25\n",
      "5 * 6 = 30\n",
      "5 * 7 = 35\n",
      "5 * 8 = 40\n",
      "5 * 9 = 45\n",
      "5 * 10 = 50\n"
     ]
    }
   ],
   "source": [
    "multiple_table(5)"
   ]
  },
  {
   "cell_type": "markdown",
   "id": "6c0487b8",
   "metadata": {},
   "source": [
    "25. Write a function to find the largest palindrome in a string."
   ]
  },
  {
   "cell_type": "code",
   "execution_count": 50,
   "id": "69397aec",
   "metadata": {},
   "outputs": [],
   "source": [
    "def palindrome(a):\n",
    "    x=a.split()\n",
    "    li1=[]\n",
    "    for item in x:\n",
    "        if(item==item[: :-1]):\n",
    "            li1.append(item)\n",
    "    return li1\n",
    "\n",
    "def largest_palindrome(b):\n",
    "    x=palindrome(b)\n",
    "    return max(x,key=len)\n",
    "    "
   ]
  },
  {
   "cell_type": "code",
   "execution_count": 51,
   "id": "89ee382a",
   "metadata": {},
   "outputs": [
    {
     "data": {
      "text/plain": [
       "'hhoolloohh'"
      ]
     },
     "execution_count": 51,
     "metadata": {},
     "output_type": "execute_result"
    }
   ],
   "source": [
    "a=\"radar hhoolloohh hello\"\n",
    "largest_palindrome(a)"
   ]
  },
  {
   "cell_type": "markdown",
   "id": "2ad57362",
   "metadata": {},
   "source": [
    "26. Write a program to remove all spaces from a string."
   ]
  },
  {
   "cell_type": "code",
   "execution_count": 53,
   "id": "f2698e55",
   "metadata": {},
   "outputs": [],
   "source": [
    "def remove_space(a):\n",
    "    return a.replace(\" \",\"\")"
   ]
  },
  {
   "cell_type": "code",
   "execution_count": 55,
   "id": "ec5bc3cd",
   "metadata": {},
   "outputs": [
    {
     "data": {
      "text/plain": [
       "'Hell'"
      ]
     },
     "execution_count": 55,
     "metadata": {},
     "output_type": "execute_result"
    }
   ],
   "source": [
    "al=\"He ll\"\n",
    "remove_space(al)"
   ]
  },
  {
   "cell_type": "markdown",
   "id": "7223cdef",
   "metadata": {},
   "source": [
    "27. Write a function to check if a number is a prime number."
   ]
  },
  {
   "cell_type": "code",
   "execution_count": 69,
   "id": "214204e2",
   "metadata": {},
   "outputs": [],
   "source": [
    "def is_prime(a):\n",
    "    if(a<2):\n",
    "        return \"This no. is not prime\"\n",
    "    count=0\n",
    "    for i in range(1,a+1):\n",
    "        if(a%i==0):\n",
    "            count+=1\n",
    "    if(count==2):\n",
    "        return \"This is a prime number\"\n",
    "    else:\n",
    "        return \"This is a not prime number\"\n",
    "        \n",
    "            "
   ]
  },
  {
   "cell_type": "code",
   "execution_count": 72,
   "id": "06f98504",
   "metadata": {},
   "outputs": [
    {
     "data": {
      "text/plain": [
       "'This is a not prime number'"
      ]
     },
     "execution_count": 72,
     "metadata": {},
     "output_type": "execute_result"
    }
   ],
   "source": [
    "is_prime(8)"
   ]
  },
  {
   "cell_type": "markdown",
   "id": "8d6044b1",
   "metadata": {},
   "source": [
    "28. Write a program to find the factorial of a number iteratively."
   ]
  },
  {
   "cell_type": "code",
   "execution_count": 75,
   "id": "f121d165",
   "metadata": {},
   "outputs": [],
   "source": [
    "def facto(n):\n",
    "    fact=1\n",
    "    for i in range(1,n+1):\n",
    "        fact=fact*i\n",
    "    return fact"
   ]
  },
  {
   "cell_type": "code",
   "execution_count": 80,
   "id": "50e2ef65",
   "metadata": {},
   "outputs": [
    {
     "data": {
      "text/plain": [
       "120"
      ]
     },
     "execution_count": 80,
     "metadata": {},
     "output_type": "execute_result"
    }
   ],
   "source": [
    "facto(5)"
   ]
  },
  {
   "cell_type": "markdown",
   "id": "63f47adc",
   "metadata": {},
   "source": [
    "29. Write a function to find the sum of the first N even numbers."
   ]
  },
  {
   "cell_type": "code",
   "execution_count": 81,
   "id": "c6c3bd60",
   "metadata": {},
   "outputs": [],
   "source": [
    "def sum_first_n_even(n):\n",
    "    return n*(n+1)"
   ]
  },
  {
   "cell_type": "code",
   "execution_count": 83,
   "id": "e87e0840",
   "metadata": {},
   "outputs": [
    {
     "data": {
      "text/plain": [
       "12"
      ]
     },
     "execution_count": 83,
     "metadata": {},
     "output_type": "execute_result"
    }
   ],
   "source": [
    "sum_first_n_even(3)"
   ]
  },
  {
   "cell_type": "code",
   "execution_count": 86,
   "id": "adfa119d",
   "metadata": {},
   "outputs": [],
   "source": [
    "#OR\n",
    "\n",
    "def sum_first_n_even(a):\n",
    "    total=0\n",
    "    current_even=2\n",
    "    for i in range(a):\n",
    "        total+=current_even\n",
    "        current_even+=2\n",
    "    return total"
   ]
  },
  {
   "cell_type": "code",
   "execution_count": 87,
   "id": "3bff2532",
   "metadata": {},
   "outputs": [
    {
     "data": {
      "text/plain": [
       "12"
      ]
     },
     "execution_count": 87,
     "metadata": {},
     "output_type": "execute_result"
    }
   ],
   "source": [
    "sum_first_n_even(3)"
   ]
  },
  {
   "cell_type": "markdown",
   "id": "47785bc0",
   "metadata": {},
   "source": [
    "30. Write a program to check if a number is a Armstrong number."
   ]
  },
  {
   "cell_type": "code",
   "execution_count": 90,
   "id": "bd3cf998",
   "metadata": {},
   "outputs": [],
   "source": [
    "def is_armstrong(a):\n",
    "    x=str(a)\n",
    "    sumx=0\n",
    "    for i in x:\n",
    "        i=int(i)\n",
    "        sumx+=(i*i*i)\n",
    "    if(a==sumx):\n",
    "        return \"Yes, it is a Armstrong number\"\n",
    "    else:\n",
    "        return \"No, it is not a Armstrong number\"\n",
    "        "
   ]
  },
  {
   "cell_type": "code",
   "execution_count": 94,
   "id": "afb3306a",
   "metadata": {},
   "outputs": [
    {
     "data": {
      "text/plain": [
       "'Yes, it is a Armstrong number'"
      ]
     },
     "execution_count": 94,
     "metadata": {},
     "output_type": "execute_result"
    }
   ],
   "source": [
    "is_armstrong(153)"
   ]
  },
  {
   "cell_type": "markdown",
   "id": "54f7144d",
   "metadata": {},
   "source": [
    "31. Write a program to calculate the average of a list of numbers."
   ]
  },
  {
   "cell_type": "code",
   "execution_count": 97,
   "id": "592f0307",
   "metadata": {},
   "outputs": [],
   "source": [
    "def list_avg(li):\n",
    "    return np.average(li)"
   ]
  },
  {
   "cell_type": "code",
   "execution_count": 99,
   "id": "23f4d2c5",
   "metadata": {},
   "outputs": [
    {
     "data": {
      "text/plain": [
       "3.0"
      ]
     },
     "execution_count": 99,
     "metadata": {},
     "output_type": "execute_result"
    }
   ],
   "source": [
    "li1=[1,2,3,4,5]\n",
    "list_avg(li1)"
   ]
  },
  {
   "cell_type": "markdown",
   "id": "dad486c1",
   "metadata": {},
   "source": [
    "32. Write a program to check if a given string is a valid email address.`"
   ]
  },
  {
   "cell_type": "code",
   "execution_count": 107,
   "id": "2870b0a0",
   "metadata": {},
   "outputs": [],
   "source": [
    "import re \n",
    "def email_validation(email):\n",
    "    regex= r'^[a-zA-Z0-9_.+-]+@[a-zA-Z0-9-]+\\.[a-zA-Z0-9-.]+$'\n",
    "    if re.match(regex,email):\n",
    "        return \"This is valid email\"\n",
    "    return \"This is not a valid email\""
   ]
  },
  {
   "cell_type": "code",
   "execution_count": 110,
   "id": "b7827506",
   "metadata": {},
   "outputs": [
    {
     "data": {
      "text/plain": [
       "'This is not a valid email'"
      ]
     },
     "execution_count": 110,
     "metadata": {},
     "output_type": "execute_result"
    }
   ],
   "source": [
    "email_validation(\"jaiswals@imran907@gmailhg...com\")"
   ]
  },
  {
   "cell_type": "markdown",
   "id": "d382f016",
   "metadata": {},
   "source": [
    "33. Write a function to calculate the power of a number without using the ** operator."
   ]
  },
  {
   "cell_type": "code",
   "execution_count": 113,
   "id": "e6a754ce",
   "metadata": {},
   "outputs": [],
   "source": [
    "def power_of_n(n):\n",
    "    return n*n\n"
   ]
  },
  {
   "cell_type": "code",
   "execution_count": 114,
   "id": "3a47a0cf",
   "metadata": {},
   "outputs": [
    {
     "data": {
      "text/plain": [
       "36"
      ]
     },
     "execution_count": 114,
     "metadata": {},
     "output_type": "execute_result"
    }
   ],
   "source": [
    "power_of_n(6)"
   ]
  },
  {
   "cell_type": "markdown",
   "id": "72601ff4",
   "metadata": {},
   "source": [
    "34. Write a program to find the second smallest number in a list."
   ]
  },
  {
   "cell_type": "code",
   "execution_count": 117,
   "id": "6be56943",
   "metadata": {},
   "outputs": [],
   "source": [
    "def second_largest(lis):\n",
    "    lis.sort()\n",
    "    return lis[-2]"
   ]
  },
  {
   "cell_type": "code",
   "execution_count": 118,
   "id": "be6620a8",
   "metadata": {},
   "outputs": [
    {
     "data": {
      "text/plain": [
       "4"
      ]
     },
     "execution_count": 118,
     "metadata": {},
     "output_type": "execute_result"
    }
   ],
   "source": [
    "li1=[1,4,5,3,2]\n",
    "second_largest(li1)"
   ]
  },
  {
   "cell_type": "code",
   "execution_count": null,
   "id": "82d071d1",
   "metadata": {},
   "outputs": [],
   "source": []
  },
  {
   "cell_type": "code",
   "execution_count": null,
   "id": "168c546a",
   "metadata": {},
   "outputs": [],
   "source": []
  },
  {
   "cell_type": "code",
   "execution_count": null,
   "id": "fce1fc41",
   "metadata": {},
   "outputs": [],
   "source": []
  },
  {
   "cell_type": "code",
   "execution_count": null,
   "id": "e36171f5",
   "metadata": {},
   "outputs": [],
   "source": []
  },
  {
   "cell_type": "code",
   "execution_count": null,
   "id": "69cec3e7",
   "metadata": {},
   "outputs": [],
   "source": []
  },
  {
   "cell_type": "code",
   "execution_count": null,
   "id": "aa865d68",
   "metadata": {},
   "outputs": [],
   "source": []
  },
  {
   "cell_type": "code",
   "execution_count": null,
   "id": "94049cd9",
   "metadata": {},
   "outputs": [],
   "source": []
  }
 ],
 "metadata": {
  "kernelspec": {
   "display_name": "Python 3 (ipykernel)",
   "language": "python",
   "name": "python3"
  },
  "language_info": {
   "codemirror_mode": {
    "name": "ipython",
    "version": 3
   },
   "file_extension": ".py",
   "mimetype": "text/x-python",
   "name": "python",
   "nbconvert_exporter": "python",
   "pygments_lexer": "ipython3",
   "version": "3.11.5"
  }
 },
 "nbformat": 4,
 "nbformat_minor": 5
}
